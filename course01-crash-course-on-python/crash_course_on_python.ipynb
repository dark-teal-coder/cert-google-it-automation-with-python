{
  "cells": [
    {
      "cell_type": "markdown",
      "metadata": {
        "id": "3Sj3O1BtWfVN"
      },
      "source": [
        "<img src=\"https://raw.githubusercontent.com/dark-teal-coder/dark-teal-coder/main/images/coder-no-background-000-128-128.png\"\n",
        "     alt=\"coder-black-background-000-128-128.png\" width=\"100\" height=\"100\" align=\"right\" style=\"margin:0px 5%; padding: 5px;\">\n",
        "<p>\n",
        "\tGitHub: <a href=\"https://github.com/dark-teal-coder\">@dark-teal-coder</a>\n",
        "\t<br />\n",
        "\tFirst Published Date: 2024-10-16\n",
        "\t<br />\n",
        "\tLast Modified Date: 2024-10-16\n",
        "</p>\n",
        "\n",
        "<br />\n",
        "\n",
        "___"
      ]
    },
    {
      "cell_type": "markdown",
      "metadata": {
        "id": "sK65h4lWWfVO"
      },
      "source": [
        "[![Open In Colab](https://colab.research.google.com/assets/colab-badge.svg)](https://colab.research.google.com/github/dark-teal-coder/google-cert-it-automation-with-python/blob/main/course01-crash-course-on-python/crash_course_on_python.ipynb)"
      ]
    },
    {
      "cell_type": "markdown",
      "metadata": {
        "id": "0oqQcG_RWfVP"
      },
      "source": [
        "# Course: Crash Course on Python"
      ]
    },
    {
      "cell_type": "markdown",
      "metadata": {},
      "source": [
        "&nbsp;\n",
        "\n",
        "---\n",
        "\n",
        "&nbsp;"
      ]
    },
    {
      "cell_type": "markdown",
      "metadata": {},
      "source": [
        "## Table of Contents\n",
        "\n",
        "- [Module 01 Hello Python!]()\n",
        "  - [01.01 Course Introduction]()\n",
        "  - [01.02 Introduction to Programming]()\n",
        "  - [01.03 Introduction to Python]()\n",
        "  - [01.04 Hello World]()\n",
        "  - [01.05 Module Review]()\n",
        "- [Module 02 Basic Python Syntax]()\n",
        "  - [02.01 Expressions and Variables]()\n",
        "  - [02.02 Functions]()\n",
        "  - [02.03 Conditionals]()\n",
        "  - [02.04 Module Review]()\n",
        "- [Module 03 Loops]()\n",
        "  - [03.01 While Loops]()\n",
        "  - [03.02 For Loops]()\n",
        "  - [03.03 Recursion (Optional)]()\n",
        "  - [03.04 Module Review]()\n",
        "- [Module 04 Strings, Lists and Dictionaries]()\n",
        "  - [04.01 Strings]()\n",
        "  - [04.02 Lists]()\n",
        "  - [04.03 Dictionaries]()\n",
        "  - [04.04 Object-oriented Programming (Optional)]()\n",
        "  - [04.05 Module Review]()\n",
        "- [Module 05 Final Project]()\n",
        "  - [05.01 Writing a Script from the Ground Up]()\n",
        "  - [05.02 Course Wrap-up]()"
      ]
    },
    {
      "cell_type": "markdown",
      "metadata": {},
      "source": [
        "&nbsp;\n",
        "\n",
        "---\n",
        "\n",
        "&nbsp;"
      ]
    },
    {
      "cell_type": "markdown",
      "metadata": {},
      "source": [
        "## Module 01 Hello Python!"
      ]
    },
    {
      "cell_type": "markdown",
      "metadata": {},
      "source": [
        "### 01.01 Course Introduction"
      ]
    },
    {
      "cell_type": "markdown",
      "metadata": {},
      "source": [
        "#### 01.01.01 Video: Specialization Introduction\n",
        "\n",
        "<img src=\"https://user-images.githubusercontent.com/95575665/168158125-0d826c1a-ffea-4ea9-a2bc-f3b0f4f0b99a.png\" alt=\"youtube-logo.png\" width=\"15\" height=\"10\"> [Specialization Introduction](https://www.youtube.com/watch?v=wgoJqCy6aeU)\n",
        "\n",
        "#### 01.01.02 Video: Course Introduction\n",
        "\n",
        "#### 01.01.03 Reading: Program Surveys\n",
        "\n",
        "#### 01.01.04 Reading: Welcome to the Program"
      ]
    },
    {
      "cell_type": "markdown",
      "metadata": {},
      "source": [
        "### 01.02 Introduction to Programming"
      ]
    },
    {
      "cell_type": "markdown",
      "metadata": {},
      "source": [
        "#### 01.02.01 Video: The Beginning of Your Programming Journey\n",
        "\n",
        "<img src=\"https://user-images.githubusercontent.com/95575665/168158125-0d826c1a-ffea-4ea9-a2bc-f3b0f4f0b99a.png\" alt=\"youtube-logo.png\" width=\"15\" height=\"10\"> [The Beginning of Your Programming Journey]()\n",
        "\n",
        "#### 01.02.02 Video: What is programming?\n",
        "\n",
        "<img src=\"https://user-images.githubusercontent.com/95575665/168158125-0d826c1a-ffea-4ea9-a2bc-f3b0f4f0b99a.png\" alt=\"youtube-logo.png\" width=\"15\" height=\"10\"> [What is programming?]()\n",
        "\n",
        "> **Syntax**: The rules for how a sentence is constructed.\n",
        "\n",
        "#### 01.02.03 Video: What is automation?\n",
        "\n",
        "<img src=\"https://user-images.githubusercontent.com/95575665/168158125-0d826c1a-ffea-4ea9-a2bc-f3b0f4f0b99a.png\" alt=\"youtube-logo.png\" width=\"15\" height=\"10\"> [What is automation?]()\n",
        "\n",
        "#### 01.02.04 Reading: Uses for Automation\n",
        "\n",
        "##### Uses for Automation\n",
        "\n",
        "Scripts can be used for automating specific tasks. Automation is used to replace a repetitive manual step with one that happens automatically. Humans are fallible. They can become tired, make mistakes, fail to follow instructions, be inconsistent in their job performance, and more. In contrast, automated processes complete instructions exactly as coded, in a consistent manner. They can run 24 hours a day, everyday, without tiring. For many tasks that are appropriate for automation, it can be more cost effective to use automation than human labor. \n",
        "\n",
        "Appropriate uses for automation include:\n",
        "\n",
        "- The automatic timing and regulation of traffic lights\n",
        "- A repetitive task that is at high risk for human error\n",
        "- Sending commands to a computer\n",
        "- Detecting and removing duplicates of data\n",
        "- Sending automated emails that are personalized by pulling individual names from a database and plugging them into the email \n",
        "- Updating a large number of file permissions\n",
        "- Reporting on system data, like disk or memory usage\n",
        "- Installing software\n",
        "- Generating reports\n",
        "- Deploying a file or a computer program to all computers on a company network\n",
        "- Using a configuration management system to deploy software patches, after a human has designed the system\n",
        "- Populating an e-commerce site with products\n",
        "- Setting the home directory and access permissions for users\n",
        "\n",
        "**Automation is not always an appropriate or complete solution**\n",
        "\n",
        "Automation cannot perform all human work. Tasks that call for human creativity, social connection, psychology, flexibility, ingenuity, evaluation, and/or complex analytic work are not good candidates for full automation. Sometimes automation can be used to perform one or more subtasks of a larger set of tasks – but – human intervention is required to complete the tasks. The following are some examples of tasks that cannot or should not be fully automated:\n",
        "\n",
        "- Items that require human evaluation and analytic skills:\n",
        "  - Designing a configuration management system\n",
        "  - Investigating and troubleshooting all end user problems\n",
        "  - Writing a computer program\n",
        "  - Building a new startup business\n",
        "- Items that require human creativity and/or an eye for aesthetic qualities:\n",
        "  - Designing an attractive webpage (AI can do this, but simple automation cannot) \n",
        "  - Wedding photography\n",
        "  - Haircuts and styling\n",
        "- Items that cannot be automated due to basic physics:\n",
        "  - Troubleshooting or repairing machines that cannot power on or boot up \n",
        "- Items that need human interaction, psychology, and/or evaluation skills:\n",
        "  - Interviewing and hiring new employees\n",
        "  - Customer service (chat bots cannot address every customer service need)\n",
        "- Items that should not be fully automated due to costs and safety:\n",
        "  - Grocery store checkout process, including bagging groceries\n",
        "  - Tasks that are less expensive to perform manually\n",
        "\n",
        "**Artificial Intelligence**\n",
        "\n",
        "It is important to understand that basic automation is not the same as artificial intelligence. Automation is used to explicitly instruct a machine on how to perform a task. Artificial intelligence (AI) involves training a computing machine to perform more complex tasks through a process called machine learning. This process prepares the AI software to perform new tasks without a human needing to program explicit instructions for each task. Although AI is often used for automating human tasks, AI automation is much more complex than basic automation.\n",
        "\n",
        "#### 01.02.05 Video: Getting Computers to Work for You\n",
        "\n",
        "<img src=\"https://user-images.githubusercontent.com/95575665/168158125-0d826c1a-ffea-4ea9-a2bc-f3b0f4f0b99a.png\" alt=\"youtube-logo.png\" width=\"15\" height=\"10\"> [Getting Computers to Work for You]()\n",
        "\n",
        "#### 01.02.06 Reading: Study Guide: Introduction to Programming\n",
        "\n",
        "#### 01.02.07 Practice Quiz: Introduction to Programming\n"
      ]
    },
    {
      "cell_type": "markdown",
      "metadata": {},
      "source": [
        "### 01.03 Introduction to Python"
      ]
    },
    {
      "cell_type": "markdown",
      "metadata": {},
      "source": [
        "#### 01.03.01 Video: What is Python?\n",
        "\n",
        "#### 01.03.02 Reading: Python Resources\n",
        "\n",
        "#### 01.03.03 Reading: A Note on Syntax and Code Blocks\n",
        "\n",
        "#### 01.03.04 Video: Why is Python relevant to IT?\n",
        "\n",
        "#### 01.03.05 Video: Other Languages\n",
        "\n",
        "#### 01.03.06 Reading: Study Guide: Introduction to Python\n",
        "\n",
        "#### 01.03.07 Practice Quiz: Introduction to Python"
      ]
    },
    {
      "cell_type": "markdown",
      "metadata": {},
      "source": [
        "### 01.04 Hello World"
      ]
    },
    {
      "cell_type": "markdown",
      "metadata": {},
      "source": [
        "#### 01.04.01 Reading: Review: Hello, World!\n",
        "\n",
        "#### 01.04.02 Video: Hello, World!\n",
        "\n",
        "#### 01.04.03 Reading: Review: Getting information from the user\n",
        "\n",
        "#### 01.04.04 Video: Getting Information from the User\n",
        "\n",
        "#### 01.04.05 Reading: Review: Python can be your calculator\n",
        "\n",
        "#### 01.04.06 Video: Python Can Be Your Calculator\n",
        "\n",
        "#### 01.04.07 Reading: Study Guide: First Programming Concepts\n",
        "\n",
        "#### 01.04.08 Practice Quiz: Hello World\n",
        "\n",
        "#### 01.04.09 Video: Code editors and IDEs overview\n",
        "\n",
        "#### 01.04.10 Reading: Review: Use the command-line\n",
        "\n",
        "#### 01.04.11 Video: Use the command-line\n",
        "\n",
        "#### 01.04.12 Reading: Review: Use JupyterLab and Jupyter Notebooks\n",
        "\n",
        "#### 01.04.13 Video: Use JupyterLab and Jupyter Notebooks\n",
        "\n",
        "#### 01.04.14 Reading: Review: Use Colab\n",
        "\n",
        "#### 01.04.15 Video: Use Colab\n",
        "\n",
        "#### 01.04.16 Reading: Review: Use VS Code\n",
        "\n",
        "#### 01.04.17 Video: Use VS Code\n",
        "\n",
        "#### 01.04.18 Reading: More on IDEs and code editors"
      ]
    },
    {
      "cell_type": "markdown",
      "metadata": {},
      "source": [
        "### 01.05 Module Review"
      ]
    },
    {
      "cell_type": "markdown",
      "metadata": {},
      "source": [
        "#### 01.05.01 Video: First Steps Wrap Up\n",
        "\n",
        "#### 01.05.02 Video: Meet Marga, the Curriculum Developer\n",
        "\n",
        "#### 01.05.03 Reading: Glossary terms from course 1, module 1\n",
        "\n",
        "#### 01.05.04 Reading: Study Guide: Module 1 Graded Quiz\n",
        "\n",
        "#### 01.05.05 Quiz: Module 1 Graded Assessment"
      ]
    },
    {
      "cell_type": "markdown",
      "metadata": {},
      "source": [
        "&nbsp;\n",
        "\n",
        "---\n",
        "\n",
        "&nbsp;"
      ]
    },
    {
      "cell_type": "markdown",
      "metadata": {},
      "source": [
        "## Module 02 Basic Python Syntax"
      ]
    },
    {
      "cell_type": "markdown",
      "metadata": {},
      "source": [
        "### 02.01 Expressions and Variables"
      ]
    },
    {
      "cell_type": "markdown",
      "metadata": {},
      "source": [
        "#### 02.01.01 Video: Basic Python Syntax introduction\n",
        "\n",
        "#### 02.01.02 Reading: Explore Python syntax\n",
        "\n",
        "#### 02.01.03 Reading: Review: Data types\n",
        "\n",
        "#### 02.01.04 Video: Data Types\n",
        "\n",
        "#### 02.01.05 Reading: Annotating variables by type\n",
        "\n",
        "#### 02.01.06 Reading: Review: Expressions, numbers, and type conversions\n",
        "\n",
        "#### 02.01.07 Video: Expressions, numbers, and type conversions\n",
        "\n",
        "#### 02.01.08 Reading: Implicit vs explicit conversion\n",
        "\n",
        "#### 02.01.09 Reading: Study guide: Expressions and variables\n",
        "\n",
        "#### 02.01.10 Practice quiz: Expressions and variables"
      ]
    },
    {
      "cell_type": "markdown",
      "metadata": {},
      "source": [
        "### 02.02 Functions"
      ]
    },
    {
      "cell_type": "markdown",
      "metadata": {},
      "source": [
        "#### 02.02.01 Reading: Review: Defining functions\n",
        "\n",
        "#### 02.02.02 Video: Defining Functions\n",
        "\n",
        "#### 02.02.03 Reading: Built-in functions\n",
        "\n",
        "#### 02.02.04 Reading: Review: Returning values\n",
        "\n",
        "#### 02.02.05 Video: Returning Values\n",
        "\n",
        "#### 02.02.06 Reading: Review: The principles of code reuse\n",
        "\n",
        "#### 02.02.07 Video: The principles of code reuse\n",
        "\n",
        "#### 02.02.08 Reading: Review: Code style\n",
        "\n",
        "#### 02.02.09 Video: Code style\n",
        "\n",
        "#### 02.02.10 Reading: Study guide: Functions\n",
        "\n",
        "#### 02.02.11 Practice Quiz: Functions"
      ]
    },
    {
      "cell_type": "markdown",
      "metadata": {},
      "source": [
        "### 02.03 Conditionals"
      ]
    },
    {
      "cell_type": "markdown",
      "metadata": {},
      "source": [
        "#### 02.03.01 Reading: Review: Comparing things\n",
        "\n",
        "#### 02.03.02 Video: Comparing things\n",
        "\n",
        "#### 02.03.03 Reading: Comparison Operators with Equations\n",
        "\n",
        "#### 02.03.04 Reading: Comparison Operators with Strings\n",
        "\n",
        "#### 02.03.05 Reading: Logical Operators\n",
        "\n",
        "#### 02.03.06 Review: Branching with if statements\n",
        "\n",
        "#### 02.03.07 Video: Branching with if Statements\n",
        "\n",
        "#### 02.03.08 Reading: Review: else statements\n",
        "\n",
        "#### 02.03.09 Video: else Statements\n",
        "\n",
        "#### 02.03.10 Reading: else Statements and the Modulo Operator\n",
        "\n",
        "#### 02.03.11 Reading: Review: elif statements\n",
        "\n",
        "#### 02.03.12 Video: elif Statements\n",
        "\n",
        "#### 02.03.13 Reading: Complex Branching with elif Statements\n",
        "\n",
        "#### 02.03.14 Reading: Study Guide: Conditionals\n",
        "\n",
        "#### 02.03.15 Practice Quiz: Conditionals"
      ]
    },
    {
      "cell_type": "markdown",
      "metadata": {},
      "source": [
        "### 02.04 Module Review"
      ]
    },
    {
      "cell_type": "markdown",
      "metadata": {},
      "source": [
        "#### 02.04.01 Video: In Marga's Words: Why I Like Python\n",
        "\n",
        "#### 02.04.02 Reading: Glossary terms from course 1, module 2\n",
        "\n",
        "#### 02.04.03 Reading: Study Guide: Module 2 Graded Quiz\n",
        "\n",
        "#### 02.04.04 Quiz: Module 2 Graded Assessment\n",
        "\n",
        "#### 02.04.05 Video: Basic Syntax Wrap Up"
      ]
    },
    {
      "cell_type": "markdown",
      "metadata": {},
      "source": [
        "&nbsp;\n",
        "\n",
        "---\n",
        "\n",
        "&nbsp;"
      ]
    },
    {
      "cell_type": "markdown",
      "metadata": {},
      "source": [
        "## Module 03 Loops"
      ]
    },
    {
      "cell_type": "markdown",
      "metadata": {},
      "source": [
        "### 03.01 While Loops"
      ]
    },
    {
      "cell_type": "markdown",
      "metadata": {},
      "source": [
        "#### 03.01.01 Video: Introduction to Loops\n",
        "\n",
        "#### 03.01.02 Reading: Review: What is a while loop?\n",
        "\n",
        "#### 03.01.03 Video: What is a while loop?\n",
        "\n",
        "#### 03.01.04 Reading: Anatomy of a While Loop\n",
        "\n",
        "#### 03.01.05 Reading: Review: More while loop examples\n",
        "\n",
        "#### 03.01.06 Video: More while loop examples\n",
        "\n",
        "#### 03.01.07 Reading: Review: Why initializing variables matters\n",
        "\n",
        "#### 03.01.08 Video: Why Initializing Variables Matters\n",
        "\n",
        "#### 03.01.09 Reading: Review: Infinite loops and how to break them\n",
        "\n",
        "#### 03.01.10 Video: Infinite Loops and How to Break Them\n",
        "\n",
        "#### 03.01.11 Reading: Study guide: while loops\n",
        "\n",
        "#### 03.01.12 Practice quiz: While loops"
      ]
    },
    {
      "cell_type": "markdown",
      "metadata": {},
      "source": [
        "### 03.02 For Loops"
      ]
    },
    {
      "cell_type": "markdown",
      "metadata": {},
      "source": [
        "#### 03.02.01 Reading: Review: What is a for loop?\n",
        "\n",
        "#### 03.02.02 Video: What is a for loop?\n",
        "\n",
        "#### 03.02.03 Reading: Review: More for loops examples\n",
        "\n",
        "#### 03.02.04 Video: More for loop examples\n",
        "\n",
        "#### 03.02.05 Reading: A Closer Look at the Range() Function\n",
        "\n",
        "#### 03.02.06 Reading: Review: Nested for loops\n",
        "\n",
        "#### 03.02.07 Video: Nested for Loops\n",
        "\n",
        "#### 03.02.08 Reading: Strings and for loops\n",
        "\n",
        "#### 03.02.09 Reading: Looping over a String\n",
        "\n",
        "#### 03.02.10 Reading: Slice and Join Strings\n",
        "\n",
        "#### 03.02.11 Reading: Review: Common errors in for loops\n",
        "\n",
        "```\n",
        "for x in 25:\n",
        "\tprint(x)\n",
        "\n",
        "# This will produce an error\n",
        "```\n",
        "\n",
        "#### 03.02.12 Video: Common Errors in for Loops \n",
        "\n",
        "#### 03.02.13 Reading: Study Guide: for Loops\n",
        "\n",
        "#### 03.02.14 Practice Quiz: For Loops"
      ]
    },
    {
      "cell_type": "markdown",
      "metadata": {},
      "source": [
        "### 03.03 Recursion (Optional)"
      ]
    },
    {
      "cell_type": "markdown",
      "metadata": {},
      "source": [
        "#### 03.03.01 Reading: Review: What is recursion?\n",
        "\n",
        "#### 03.03.02 Video: What is recursion? (Optional)\n",
        "\n",
        "#### 03.03.03 Reading: Review: Recursion in Action in the IT context\n",
        "\n",
        "#### 03.03.04 Video: Recursion in Action in the IT Context\n",
        "\n",
        "#### 03.03.05 Reading: Additional Recursion Sources\n",
        "\n",
        "#### 03.03.06 Practice Quiz: Recursion"
      ]
    },
    {
      "cell_type": "markdown",
      "metadata": {},
      "source": [
        "### 03.04 Module Review"
      ]
    },
    {
      "cell_type": "markdown",
      "metadata": {},
      "source": [
        "#### 03.04.01 Video: Loops Wrap Up\n",
        "\n",
        "#### 03.04.02 Video: In Marga's Words: How I Got Into Programming\n",
        "\n",
        "#### 03.04.03 Reading: Glossary terms from course 1, module 3\n",
        "\n",
        "#### 03.04.04 Reading: Study Guide: Module 3 Graded Quiz\n",
        "\n",
        "#### 03.04.05 Quiz: Module 3 Graded Assessment"
      ]
    },
    {
      "cell_type": "markdown",
      "metadata": {},
      "source": [
        "&nbsp;\n",
        "\n",
        "---\n",
        "\n",
        "&nbsp;"
      ]
    },
    {
      "cell_type": "markdown",
      "metadata": {},
      "source": [
        "## Module 04 Strings, Lists and Dictionaries"
      ]
    },
    {
      "cell_type": "markdown",
      "metadata": {},
      "source": [
        "### 04.01 Strings"
      ]
    },
    {
      "cell_type": "markdown",
      "metadata": {},
      "source": [
        "#### 04.01.01 Video: Basic Structures Introduction\n",
        "\n",
        "#### 04.01.02 Reading: Review: What is a string?\n",
        "\n",
        "#### 04.01.03 Video: What is a string?\n",
        "\n",
        "#### 04.01.04 Reading: Review: The parts of a string\n",
        "\n",
        "#### 04.01.05 Video: The Parts of a String\n",
        "\n",
        "#### 04.01.06 Reading: String Indexing and Slicing\n",
        "\n",
        "#### 04.01.07 Reading: Review: Creating new strings\n",
        "\n",
        "#### 04.01.08 Video: Creating New Strings\n",
        "\n",
        "#### 04.01.09 Reading: Basic String Methods\n",
        "\n",
        "#### 04.01.10 Reading: Review: More string methods\n",
        "\n",
        "#### 04.01.11 Video: More String Methods\n",
        "\n",
        "#### 04.01.12 Reading: Advanced String Methods\n",
        "\n",
        "#### 04.01.13 Reading: Review: Formatting strings\n",
        "\n",
        "#### 04.01.14 Video: Formatting Strings\n",
        "\n",
        "#### 04.01.15 Reading: String Formatting\n",
        "\n",
        "#### 04.01.16 Reading: String Reference Guide\n",
        "\n",
        "#### 04.01.17 Reading: Formatting strings reference guide\n",
        "\n",
        "#### 04.01.18 Reading: Study Guide: Strings\n",
        "\n",
        "#### 04.01.19 Practice Quiz: Strings"
      ]
    },
    {
      "cell_type": "markdown",
      "metadata": {},
      "source": [
        "### 04.02 Lists"
      ]
    },
    {
      "cell_type": "markdown",
      "metadata": {},
      "source": [
        "#### 04.02.01 Reading: Review: What is a list?\n",
        "\n",
        "#### 04.02.02 Video: What is a list?\n",
        "\n",
        "#### 04.02.03 Reading: Lists Defined\n",
        "\n",
        "#### 04.02.04 Reading: Review: Modifying the contents of a list\n",
        "\n",
        "#### 04.02.05 Video: Modifying the Contents of a List\n",
        "\n",
        "#### 04.02.06 Reading: Review: Lists and tuples\n",
        "\n",
        "#### 04.02.07 Video: Lists and Tuples\n",
        "\n",
        "#### 04.02.08 Reading: Tuples\n",
        "\n",
        "#### 04.02.09 Reading: Review: Iterating over lists and tuples\n",
        "\n",
        "#### 04.02.10 Video: Iterating over Lists and Tuples\n",
        "\n",
        "#### 04.02.11 Reading: Iterating Over Lists Using Enumerate\n",
        "\n",
        "#### 04.02.12 Reading: Review: List comprehensions\n",
        "\n",
        "#### 04.02.13 Video: List Comprehensions\n",
        "\n",
        "#### 04.02.14 Video: List comprehension vs for loops\n",
        "\n",
        "#### 04.02.15 Reading: List Comprehension Examples\n",
        "\n",
        "#### 04.02.16 Reading: Study Guide: List Operations and Methods\n",
        "\n",
        "#### 04.02.17 Practice Quiz: Lists"
      ]
    },
    {
      "cell_type": "markdown",
      "metadata": {},
      "source": [
        "### 04.03 Dictionaries"
      ]
    },
    {
      "cell_type": "markdown",
      "metadata": {},
      "source": [
        "#### 04.03.01 Reading: Review: What is a dictionary? \n",
        "\n",
        "#### 04.03.02 Video: What is a dictionary?\n",
        "\n",
        "#### 04.03.03 Reading: Dictionaries Defined\n",
        "\n",
        "#### 04.03.04 Reading: Review: Iterating over the contents of a dictionary\n",
        "\n",
        "#### 04.03.05 Video: Iterating over the Contents of a Dictionary\n",
        "\n",
        "#### 04.03.06 Reading: Use while loops and if else statements for dictionaries\n",
        "\n",
        "#### 04.03.07 Video: Dictionaries vs. Lists\n",
        "\n",
        "#### 04.03.08 Reading: Study Guide: Dictionary Methods\n",
        "\n",
        "#### 04.03.09 Practice Quiz: Dictionaries"
      ]
    },
    {
      "cell_type": "markdown",
      "metadata": {},
      "source": [
        "### 04.04 Object-oriented Programming (Optional)"
      ]
    },
    {
      "cell_type": "markdown",
      "metadata": {},
      "source": [
        "#### 04.04.01 Video: OOP Introduction (Optional)\n",
        "\n",
        "#### 04.04.02 Reading: What Is a Method?\n",
        "\n",
        "#### 04.04.03 Reading: Constructors and Other Special Methods (Optional)\n",
        "\n",
        "#### 04.04.04 Reading: Special Methods\n",
        "\n",
        "#### 04.04.05 Video: Instance Methods (Optional)\n",
        "\n",
        "#### 04.04.06 Reading: Methods as special operators\n",
        "\n",
        "#### 04.04.07 Reading: Study guide: Classes and methods (optional)"
      ]
    },
    {
      "cell_type": "markdown",
      "metadata": {},
      "source": [
        "### 04.05 Module Review"
      ]
    },
    {
      "cell_type": "markdown",
      "metadata": {},
      "source": [
        "#### 04.05.01 Video: Basic Structures Wrap Up\n",
        "\n",
        "#### 04.05.02 Video: In Marga's Words: My Most Challenging Script\n",
        "\n",
        "#### 04.05.03 Reading: Glossary terms from course 1, module 4\n",
        "\n",
        "#### 04.05.04 Reading: Study Guide: Module 4 Graded Quiz\n",
        "\n",
        "#### 04.05.05 Quiz: Module 4 Graded Assessment"
      ]
    },
    {
      "cell_type": "markdown",
      "metadata": {},
      "source": [
        "&nbsp;\n",
        "\n",
        "---\n",
        "\n",
        "&nbsp;"
      ]
    },
    {
      "cell_type": "markdown",
      "metadata": {},
      "source": [
        "## Module 05 Final Project"
      ]
    },
    {
      "cell_type": "markdown",
      "metadata": {},
      "source": [
        "### 05.01 Writing a Script from the Ground Up"
      ]
    },
    {
      "cell_type": "markdown",
      "metadata": {},
      "source": [
        "#### 05.01.01 \n",
        "\n",
        "#### 05.01.02\n",
        "\n",
        "#### 05.01.03\n",
        "\n",
        "#### 05.01.04\n",
        "\n",
        "#### 05.01.05\n",
        "\n",
        "#### 05.01.06\n",
        "\n",
        "#### 05.01.07\n",
        "\n",
        "#### 05.01.08\n",
        "\n",
        "#### 05.01.09\n",
        "\n",
        "#### 05.01.10\n",
        "\n",
        "#### 05.01.11 \n",
        "\n",
        "#### 05.01.12\n",
        "\n",
        "#### 05.01.13 "
      ]
    },
    {
      "cell_type": "markdown",
      "metadata": {},
      "source": [
        "### 05.02 Course Wrap-up"
      ]
    },
    {
      "cell_type": "markdown",
      "metadata": {},
      "source": [
        "#### 05.02.01 \n",
        "\n",
        "#### 05.02.02\n",
        "\n",
        "#### 05.02.03\n",
        "\n",
        "#### 05.02.04\n",
        "\n",
        "#### 05.02.05\n",
        "\n",
        "#### 05.02.06\n",
        "\n",
        "#### 05.02.07\n",
        "\n",
        "#### 05.02.08\n",
        "\n",
        "#### 05.02.09"
      ]
    },
    {
      "cell_type": "markdown",
      "metadata": {},
      "source": []
    },
    {
      "cell_type": "markdown",
      "metadata": {
        "id": "0dyIc8XQWfVS"
      },
      "source": [
        "This is in-line `code`."
      ]
    },
    {
      "cell_type": "code",
      "execution_count": null,
      "metadata": {
        "id": "6MvE2qzZWfVS"
      },
      "outputs": [],
      "source": [
        "## Show the graphs inline\n",
        "%matplotlib inline"
      ]
    },
    {
      "cell_type": "markdown",
      "metadata": {
        "id": "95Laz8X6WfVe"
      },
      "source": [
        "$$ Math\\ Formula = A \\div B $$"
      ]
    },
    {
      "cell_type": "markdown",
      "metadata": {
        "id": "THoqOxqVWfWK"
      },
      "source": [
        "`%time` is a magic command built into the IPython kernel. It is not part of Python code so it does not work in .py files."
      ]
    }
  ],
  "metadata": {
    "colab": {
      "provenance": []
    },
    "interpreter": {
      "hash": "2011e8f1b66e4ca782a16183c079a9a8ceaa771eb94b3143f514bb5560527e59"
    },
    "kernelspec": {
      "display_name": "Python 3.8.12 ('base')",
      "language": "python",
      "name": "python3"
    },
    "language_info": {
      "codemirror_mode": {
        "name": "ipython",
        "version": 3
      },
      "file_extension": ".py",
      "mimetype": "text/x-python",
      "name": "python",
      "nbconvert_exporter": "python",
      "pygments_lexer": "ipython3",
      "version": "3.8.12"
    },
    "orig_nbformat": 4
  },
  "nbformat": 4,
  "nbformat_minor": 0
}
