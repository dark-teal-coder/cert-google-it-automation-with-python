{
  "cells": [
    {
      "cell_type": "markdown",
      "metadata": {
        "id": "3Sj3O1BtWfVN"
      },
      "source": [
        "<img src=\"https://raw.githubusercontent.com/dark-teal-coder/dark-teal-coder/main/images/coder-no-background-000-128-128.png\"\n",
        "     alt=\"coder-black-background-000-128-128.png\" width=\"100\" height=\"100\" align=\"right\" style=\"margin:0px 5%; padding: 5px;\">\n",
        "<p>\n",
        "\tGitHub: <a href=\"https://github.com/dark-teal-coder\">@dark-teal-coder</a>\n",
        "\t<br />\n",
        "\tFirst Published Date: 2024-10-16\n",
        "\t<br />\n",
        "\tLast Modified Date: 2024-10-17\n",
        "</p>\n",
        "\n",
        "<br />\n",
        "\n",
        "___"
      ]
    },
    {
      "cell_type": "markdown",
      "metadata": {
        "id": "sK65h4lWWfVO"
      },
      "source": [
        "[![Open In Colab](https://colab.research.google.com/assets/colab-badge.svg)](https://colab.research.google.com/github/dark-teal-coder/google-cert-it-automation-with-python/blob/main/course01-crash-course-on-python/crash_course_on_python.ipynb)"
      ]
    },
    {
      "cell_type": "markdown",
      "metadata": {
        "id": "0oqQcG_RWfVP"
      },
      "source": [
        "# Course: Crash Course on Python"
      ]
    },
    {
      "cell_type": "markdown",
      "metadata": {},
      "source": [
        "&nbsp;\n",
        "\n",
        "---\n",
        "\n",
        "&nbsp;"
      ]
    },
    {
      "cell_type": "markdown",
      "metadata": {},
      "source": [
        "## Table of Contents\n",
        "\n",
        "- [Module 01 Hello Python!]()\n",
        "  - [01.01 Course Introduction]()\n",
        "  - [01.02 Introduction to Programming]()\n",
        "  - [01.03 Introduction to Python]()\n",
        "  - [01.04 Hello World]()\n",
        "  - [01.05 Module Review]()\n",
        "- [Module 02 Basic Python Syntax]()\n",
        "  - [02.01 Expressions and Variables]()\n",
        "  - [02.02 Functions]()\n",
        "  - [02.03 Conditionals]()\n",
        "  - [02.04 Module Review]()\n",
        "- [Module 03 Loops]()\n",
        "  - [03.01 While Loops]()\n",
        "  - [03.02 For Loops]()\n",
        "  - [03.03 Recursion (Optional)]()\n",
        "  - [03.04 Module Review]()\n",
        "- [Module 04 Strings, Lists and Dictionaries]()\n",
        "  - [04.01 Strings]()\n",
        "  - [04.02 Lists]()\n",
        "  - [04.03 Dictionaries]()\n",
        "  - [04.04 Object-oriented Programming (Optional)]()\n",
        "  - [04.05 Module Review]()\n",
        "- [Module 05 Final Project]()\n",
        "  - [05.01 Writing a Script from the Ground Up]()\n",
        "  - [05.02 Course Wrap-up]()"
      ]
    },
    {
      "cell_type": "markdown",
      "metadata": {},
      "source": [
        "&nbsp;\n",
        "\n",
        "---\n",
        "\n",
        "&nbsp;"
      ]
    },
    {
      "cell_type": "markdown",
      "metadata": {},
      "source": [
        "## Module 01 Hello Python!"
      ]
    },
    {
      "cell_type": "markdown",
      "metadata": {},
      "source": [
        "### 01.01 Course Introduction"
      ]
    },
    {
      "cell_type": "markdown",
      "metadata": {},
      "source": [
        "#### 01.01.01 Video: Specialization Introduction\n",
        "\n",
        "<img src=\"https://user-images.githubusercontent.com/95575665/168158125-0d826c1a-ffea-4ea9-a2bc-f3b0f4f0b99a.png\" alt=\"youtube-logo.png\" width=\"15\" height=\"10\"> [Specialization Introduction](https://www.youtube.com/watch?v=wgoJqCy6aeU)\n",
        "\n",
        "#### 01.01.02 Video: Course Introduction\n",
        "\n",
        "<img src=\"https://user-images.githubusercontent.com/95575665/168158125-0d826c1a-ffea-4ea9-a2bc-f3b0f4f0b99a.png\" alt=\"youtube-logo.png\" width=\"15\" height=\"10\"> [Course Introduction](https://www.youtube.com/watch?v=P_RChsEAEuc)\n",
        "\n",
        "#### 01.01.03 Reading: Program Surveys\n",
        "\n",
        "#### 01.01.04 Reading: Welcome to the Program"
      ]
    },
    {
      "cell_type": "markdown",
      "metadata": {},
      "source": [
        "### 01.02 Introduction to Programming"
      ]
    },
    {
      "cell_type": "markdown",
      "metadata": {},
      "source": [
        "#### 01.02.01 Video: The Beginning of Your Programming Journey\n",
        "\n",
        "<img src=\"https://user-images.githubusercontent.com/95575665/168158125-0d826c1a-ffea-4ea9-a2bc-f3b0f4f0b99a.png\" alt=\"youtube-logo.png\" width=\"15\" height=\"10\"> [The Beginning of Your Programming Journey](https://www.youtube.com/watch?v=_NaMdKwArM0)\n",
        "\n",
        "#### 01.02.02 Video: What is Programming?\n",
        "\n",
        "<img src=\"https://user-images.githubusercontent.com/95575665/168158125-0d826c1a-ffea-4ea9-a2bc-f3b0f4f0b99a.png\" alt=\"youtube-logo.png\" width=\"15\" height=\"10\"> [What is Programming?](https://www.youtube.com/watch?v=mRi_C2291Ls)\n",
        "\n",
        "> **Syntax**: The rules for how a sentence is constructed.\n",
        "\n",
        "#### 01.02.03 Video: What is Automation?\n",
        "\n",
        "<img src=\"https://user-images.githubusercontent.com/95575665/168158125-0d826c1a-ffea-4ea9-a2bc-f3b0f4f0b99a.png\" alt=\"youtube-logo.png\" width=\"15\" height=\"10\"> [What is Automation?](https://www.youtube.com/watch?v=KKNmIjJjXNs)\n",
        "\n",
        "#### 01.02.04 Reading: Uses for Automation\n",
        "\n",
        "##### Uses for Automation\n",
        "\n",
        "Scripts can be used for automating specific tasks. Automation is used to replace a repetitive manual step with one that happens automatically. Humans are fallible. They can become tired, make mistakes, fail to follow instructions, be inconsistent in their job performance, and more. In contrast, automated processes complete instructions exactly as coded, in a consistent manner. They can run 24 hours a day, everyday, without tiring. For many tasks that are appropriate for automation, it can be more cost effective to use automation than human labor. \n",
        "\n",
        "Appropriate uses for automation include:\n",
        "\n",
        "- The automatic timing and regulation of traffic lights\n",
        "- A repetitive task that is at high risk for human error\n",
        "- Sending commands to a computer\n",
        "- Detecting and removing duplicates of data\n",
        "- Sending automated emails that are personalized by pulling individual names from a database and plugging them into the email \n",
        "- Updating a large number of file permissions\n",
        "- Reporting on system data, like disk or memory usage\n",
        "- Installing software\n",
        "- Generating reports\n",
        "- Deploying a file or a computer program to all computers on a company network\n",
        "- Using a configuration management system to deploy software patches, after a human has designed the system\n",
        "- Populating an e-commerce site with products\n",
        "- Setting the home directory and access permissions for users\n",
        "\n",
        "**Automation is not always an appropriate or complete solution**\n",
        "\n",
        "Automation cannot perform all human work. Tasks that call for human creativity, social connection, psychology, flexibility, ingenuity, evaluation, and/or complex analytic work are not good candidates for full automation. Sometimes automation can be used to perform one or more subtasks of a larger set of tasks – but – human intervention is required to complete the tasks. The following are some examples of tasks that cannot or should not be fully automated:\n",
        "\n",
        "- Items that require human evaluation and analytic skills:\n",
        "  - Designing a configuration management system\n",
        "  - Investigating and troubleshooting all end user problems\n",
        "  - Writing a computer program\n",
        "  - Building a new startup business\n",
        "- Items that require human creativity and/or an eye for aesthetic qualities:\n",
        "  - Designing an attractive webpage (AI can do this, but simple automation cannot) \n",
        "  - Wedding photography\n",
        "  - Haircuts and styling\n",
        "- Items that cannot be automated due to basic physics:\n",
        "  - Troubleshooting or repairing machines that cannot power on or boot up \n",
        "- Items that need human interaction, psychology, and/or evaluation skills:\n",
        "  - Interviewing and hiring new employees\n",
        "  - Customer service (chat bots cannot address every customer service need)\n",
        "- Items that should not be fully automated due to costs and safety:\n",
        "  - Grocery store checkout process, including bagging groceries\n",
        "  - Tasks that are less expensive to perform manually\n",
        "\n",
        "**Artificial Intelligence**\n",
        "\n",
        "It is important to understand that basic automation is not the same as artificial intelligence. Automation is used to explicitly instruct a machine on how to perform a task. Artificial intelligence (AI) involves training a computing machine to perform more complex tasks through a process called machine learning. This process prepares the AI software to perform new tasks without a human needing to program explicit instructions for each task. Although AI is often used for automating human tasks, AI automation is much more complex than basic automation.\n",
        "\n",
        "#### 01.02.05 Video: Getting Computers to Work for You\n",
        "\n",
        "<img src=\"https://user-images.githubusercontent.com/95575665/168158125-0d826c1a-ffea-4ea9-a2bc-f3b0f4f0b99a.png\" alt=\"youtube-logo.png\" width=\"15\" height=\"10\"> [Getting Computers to Work for You](https://www.youtube.com/watch?v=UppiGEK7XE0)\n",
        "\n",
        "#### 01.02.06 Reading: Study Guide: Introduction to Programming\n",
        "\n",
        "#### 01.02.07 Practice Quiz: Introduction to Programming\n"
      ]
    },
    {
      "cell_type": "markdown",
      "metadata": {},
      "source": [
        "### 01.03 Introduction to Python"
      ]
    },
    {
      "cell_type": "markdown",
      "metadata": {},
      "source": [
        "#### 01.03.01 Video: What is Python?\n",
        "\n",
        "<img src=\"https://user-images.githubusercontent.com/95575665/168158125-0d826c1a-ffea-4ea9-a2bc-f3b0f4f0b99a.png\" alt=\"youtube-logo.png\" width=\"15\" height=\"10\"> [What is Python?](https://www.youtube.com/watch?v=8wMT1E1crCU)\n",
        "\n",
        "#### 01.03.02 Reading: Python Resources\n",
        "\n",
        "#### 01.03.03 Reading: A Note on Syntax and Code Blocks\n",
        "\n",
        "#### 01.03.04 Video: Why is Python Relevant to IT?\n",
        "\n",
        "<img src=\"https://user-images.githubusercontent.com/95575665/168158125-0d826c1a-ffea-4ea9-a2bc-f3b0f4f0b99a.png\" alt=\"youtube-logo.png\" width=\"15\" height=\"10\"> [Why is Python Relevant to IT?](https://www.youtube.com/watch?v=Y17dtA_xuOQ)\n",
        "\n",
        "#### 01.03.05 Video: Other Languages\n",
        "\n",
        "<img src=\"https://user-images.githubusercontent.com/95575665/168158125-0d826c1a-ffea-4ea9-a2bc-f3b0f4f0b99a.png\" alt=\"youtube-logo.png\" width=\"15\" height=\"10\"> [Other Languages](https://www.youtube.com/watch?v=sk2c1iS9NIg)\n",
        "\n",
        "#### 01.03.06 Reading: Study Guide: Introduction to Python\n",
        "\n",
        "#### 01.03.07 Practice Quiz: Introduction to Python"
      ]
    },
    {
      "cell_type": "markdown",
      "metadata": {},
      "source": [
        "### 01.04 Hello World"
      ]
    },
    {
      "cell_type": "markdown",
      "metadata": {},
      "source": [
        "#### 01.04.01 Reading: Review: Hello, World!\n",
        "\n",
        "#### 01.04.02 Video: Hello, World!\n",
        "\n",
        "<img src=\"https://user-images.githubusercontent.com/95575665/168158125-0d826c1a-ffea-4ea9-a2bc-f3b0f4f0b99a.png\" alt=\"youtube-logo.png\" width=\"15\" height=\"10\"> [Hello, World!]()\n",
        "\n",
        "#### 01.04.03 Reading: Review: Getting information from the user\n",
        "\n",
        "#### 01.04.04 Video: Getting Information from the User\n",
        "\n",
        "<img src=\"https://user-images.githubusercontent.com/95575665/168158125-0d826c1a-ffea-4ea9-a2bc-f3b0f4f0b99a.png\" alt=\"youtube-logo.png\" width=\"15\" height=\"10\"> [Getting Information from the User]()\n",
        "\n",
        "#### 01.04.05 Reading: Review: Python Can Be Your Calculator\n",
        "\n",
        "#### 01.04.06 Video: Python Can Be Your Calculator\n",
        "\n",
        "<img src=\"https://user-images.githubusercontent.com/95575665/168158125-0d826c1a-ffea-4ea9-a2bc-f3b0f4f0b99a.png\" alt=\"youtube-logo.png\" width=\"15\" height=\"10\"> [Python Can Be Your Calculator]()\n",
        "\n",
        "#### 01.04.07 Reading: Study Guide: First Programming Concepts\n",
        "\n",
        "#### 01.04.08 Practice Quiz: Hello World\n",
        "\n",
        "#### 01.04.09 Video: Code Editors and IDEs Overview\n",
        "\n",
        "<img src=\"https://user-images.githubusercontent.com/95575665/168158125-0d826c1a-ffea-4ea9-a2bc-f3b0f4f0b99a.png\" alt=\"youtube-logo.png\" width=\"15\" height=\"10\"> [Code Editors and IDEs Overview]()\n",
        "\n",
        "#### 01.04.10 Reading: Review: Use the Command-line\n",
        "\n",
        "#### 01.04.11 Video: Use the Command-line\n",
        "\n",
        "<img src=\"https://user-images.githubusercontent.com/95575665/168158125-0d826c1a-ffea-4ea9-a2bc-f3b0f4f0b99a.png\" alt=\"youtube-logo.png\" width=\"15\" height=\"10\"> [Use the Command-line]()\n",
        "\n",
        "#### 01.04.12 Reading: Review: Use JupyterLab and Jupyter Notebooks\n",
        "\n",
        "#### 01.04.13 Video: Use JupyterLab and Jupyter Notebooks\n",
        "\n",
        "<img src=\"https://user-images.githubusercontent.com/95575665/168158125-0d826c1a-ffea-4ea9-a2bc-f3b0f4f0b99a.png\" alt=\"youtube-logo.png\" width=\"15\" height=\"10\"> [Use JupyterLab and Jupyter Notebooks]()\n",
        "\n",
        "#### 01.04.14 Reading: Review: Use Colab\n",
        "\n",
        "#### 01.04.15 Video: Use Colab\n",
        "\n",
        "<img src=\"https://user-images.githubusercontent.com/95575665/168158125-0d826c1a-ffea-4ea9-a2bc-f3b0f4f0b99a.png\" alt=\"youtube-logo.png\" width=\"15\" height=\"10\"> [Use Colab]()\n",
        "\n",
        "#### 01.04.16 Reading: Review: Use VS Code\n",
        "\n",
        "#### 01.04.17 Video: Use VS Code\n",
        "\n",
        "<img src=\"https://user-images.githubusercontent.com/95575665/168158125-0d826c1a-ffea-4ea9-a2bc-f3b0f4f0b99a.png\" alt=\"youtube-logo.png\" width=\"15\" height=\"10\"> [Use Colab]()\n",
        "\n",
        "#### 01.04.18 Reading: More on IDEs and Code Editors"
      ]
    },
    {
      "cell_type": "markdown",
      "metadata": {},
      "source": [
        "### 01.05 Module Review"
      ]
    },
    {
      "cell_type": "markdown",
      "metadata": {},
      "source": [
        "#### 01.05.01 Video: First Steps Wrap Up\n",
        "\n",
        "<img src=\"https://user-images.githubusercontent.com/95575665/168158125-0d826c1a-ffea-4ea9-a2bc-f3b0f4f0b99a.png\" alt=\"youtube-logo.png\" width=\"15\" height=\"10\"> [First Steps Wrap Up]()\n",
        "\n",
        "#### 01.05.02 Video: Meet Marga, the Curriculum Developer\n",
        "\n",
        "<img src=\"https://user-images.githubusercontent.com/95575665/168158125-0d826c1a-ffea-4ea9-a2bc-f3b0f4f0b99a.png\" alt=\"youtube-logo.png\" width=\"15\" height=\"10\"> [Meet Marga, the Curriculum Developer]()\n",
        "\n",
        "#### 01.05.03 Reading: Glossary Terms from Course 1, Module 1\n",
        "\n",
        "#### 01.05.04 Reading: Study Guide: Module 1 Graded Quiz\n",
        "\n",
        "#### 01.05.05 Quiz: Module 1 Graded Assessment"
      ]
    },
    {
      "cell_type": "markdown",
      "metadata": {},
      "source": [
        "&nbsp;\n",
        "\n",
        "---\n",
        "\n",
        "&nbsp;"
      ]
    },
    {
      "cell_type": "markdown",
      "metadata": {},
      "source": [
        "## Module 02 Basic Python Syntax"
      ]
    },
    {
      "cell_type": "markdown",
      "metadata": {},
      "source": [
        "### 02.01 Expressions and Variables"
      ]
    },
    {
      "cell_type": "markdown",
      "metadata": {},
      "source": [
        "#### 02.01.01 Video: Basic Python Syntax introduction\n",
        "\n",
        "#### 02.01.02 Reading: Explore Python syntax\n",
        "\n",
        "#### 02.01.03 Reading: Review: Data types\n",
        "\n",
        "#### 02.01.04 Video: Data Types\n",
        "\n",
        "#### 02.01.05 Reading: Annotating Variables by type\n",
        "\n",
        "#### 02.01.06 Reading: Review: Expressions, Numbers, and Type Conversions\n",
        "\n",
        "#### 02.01.07 Video: Expressions, Numbers, and Type Conversions\n",
        "\n",
        "#### 02.01.08 Reading: Implicit vs. Explicit Conversion\n",
        "\n",
        "#### 02.01.09 Reading: Study Guide: Expressions and Variables\n",
        "\n",
        "#### 02.01.10 Practice quiz: Expressions and Variables"
      ]
    },
    {
      "cell_type": "markdown",
      "metadata": {},
      "source": [
        "### 02.02 Functions"
      ]
    },
    {
      "cell_type": "markdown",
      "metadata": {},
      "source": [
        "#### 02.02.01 Reading: Review: Defining Functions\n",
        "\n",
        "#### 02.02.02 Video: Defining Functions\n",
        "\n",
        "#### 02.02.03 Reading: Built-in Functions\n",
        "\n",
        "#### 02.02.04 Reading: Review: Returning Values\n",
        "\n",
        "#### 02.02.05 Video: Returning Values\n",
        "\n",
        "#### 02.02.06 Reading: Review: The Principles of Code Reuse\n",
        "\n",
        "#### 02.02.07 Video: The Principles of Code Reuse\n",
        "\n",
        "#### 02.02.08 Reading: Review: Code Style\n",
        "\n",
        "#### 02.02.09 Video: Code Style\n",
        "\n",
        "#### 02.02.10 Reading: Study Guide: Functions\n",
        "\n",
        "#### 02.02.11 Practice Quiz: Functions"
      ]
    },
    {
      "cell_type": "markdown",
      "metadata": {},
      "source": [
        "### 02.03 Conditionals"
      ]
    },
    {
      "cell_type": "markdown",
      "metadata": {},
      "source": [
        "#### 02.03.01 Reading: Review: Comparing Things\n",
        "\n",
        "#### 02.03.02 Video: Comparing Things\n",
        "\n",
        "#### 02.03.03 Reading: Comparison Operators with Equations\n",
        "\n",
        "#### 02.03.04 Reading: Comparison Operators with Strings\n",
        "\n",
        "#### 02.03.05 Reading: Logical Operators\n",
        "\n",
        "#### 02.03.06 Review: Branching with If Statements\n",
        "\n",
        "#### 02.03.07 Video: Branching with If Statements\n",
        "\n",
        "#### 02.03.08 Reading: Review: Else Statements\n",
        "\n",
        "#### 02.03.09 Video: Else Statements\n",
        "\n",
        "#### 02.03.10 Reading: Else Statements and the Modulo Operator\n",
        "\n",
        "#### 02.03.11 Reading: Review: Elif Statements\n",
        "\n",
        "#### 02.03.12 Video: Elif Statements\n",
        "\n",
        "#### 02.03.13 Reading: Complex Branching with Elif Statements\n",
        "\n",
        "#### 02.03.14 Reading: Study Guide: Conditionals\n",
        "\n",
        "#### 02.03.15 Practice Quiz: Conditionals"
      ]
    },
    {
      "cell_type": "markdown",
      "metadata": {},
      "source": [
        "### 02.04 Module Review"
      ]
    },
    {
      "cell_type": "markdown",
      "metadata": {},
      "source": [
        "#### 02.04.01 Video: In Marga's Words: Why I Like Python\n",
        "\n",
        "#### 02.04.02 Reading: Glossary Terms from Course 1, Module 2\n",
        "\n",
        "#### 02.04.03 Reading: Study Guide: Module 2 Graded Quiz\n",
        "\n",
        "#### 02.04.04 Quiz: Module 2 Graded Assessment\n",
        "\n",
        "#### 02.04.05 Video: Basic Syntax Wrap Up"
      ]
    },
    {
      "cell_type": "markdown",
      "metadata": {},
      "source": [
        "&nbsp;\n",
        "\n",
        "---\n",
        "\n",
        "&nbsp;"
      ]
    },
    {
      "cell_type": "markdown",
      "metadata": {},
      "source": [
        "## Module 03 Loops"
      ]
    },
    {
      "cell_type": "markdown",
      "metadata": {},
      "source": [
        "### 03.01 While Loops"
      ]
    },
    {
      "cell_type": "markdown",
      "metadata": {},
      "source": [
        "#### 03.01.01 Video: Introduction to Loops\n",
        "\n",
        "#### 03.01.02 Reading: Review: What is a While Loop?\n",
        "\n",
        "#### 03.01.03 Video: What is a While Loop?\n",
        "\n",
        "#### 03.01.04 Reading: Anatomy of a While Loop\n",
        "\n",
        "#### 03.01.05 Reading: Review: More While Loop Examples\n",
        "\n",
        "#### 03.01.06 Video: More While Loop Examples\n",
        "\n",
        "#### 03.01.07 Reading: Review: Why Initializing Variables Matters\n",
        "\n",
        "#### 03.01.08 Video: Why Initializing Variables Matters\n",
        "\n",
        "#### 03.01.09 Reading: Review: Infinite Loops and How to Break Them\n",
        "\n",
        "#### 03.01.10 Video: Infinite Loops and How to Break Them\n",
        "\n",
        "#### 03.01.11 Reading: Study Guide: While Loops\n",
        "\n",
        "#### 03.01.12 Practice quiz: While Loops"
      ]
    },
    {
      "cell_type": "markdown",
      "metadata": {},
      "source": [
        "### 03.02 For Loops"
      ]
    },
    {
      "cell_type": "markdown",
      "metadata": {},
      "source": [
        "#### 03.02.01 Reading: Review: What is a For Loop?\n",
        "\n",
        "#### 03.02.02 Video: What is a For Loop?\n",
        "\n",
        "#### 03.02.03 Reading: Review: More For Loops Examples\n",
        "\n",
        "#### 03.02.04 Video: More for Loop Examples\n",
        "\n",
        "#### 03.02.05 Reading: A Closer Look at the Range() Function\n",
        "\n",
        "#### 03.02.06 Reading: Review: Nested For Loops\n",
        "\n",
        "#### 03.02.07 Video: Nested For Loops\n",
        "\n",
        "#### 03.02.08 Reading: Strings and For Loops\n",
        "\n",
        "#### 03.02.09 Reading: Looping Over a String\n",
        "\n",
        "#### 03.02.10 Reading: Slice and Join Strings\n",
        "\n",
        "#### 03.02.11 Reading: Review: Common Errors in For Loops\n",
        "\n",
        "```\n",
        "for x in 25:\n",
        "\tprint(x)\n",
        "\n",
        "# This will produce an error\n",
        "```\n",
        "\n",
        "#### 03.02.12 Video: Common Errors in For Loops \n",
        "\n",
        "#### 03.02.13 Reading: Study Guide: For Loops\n",
        "\n",
        "#### 03.02.14 Practice Quiz: For Loops"
      ]
    },
    {
      "cell_type": "markdown",
      "metadata": {},
      "source": [
        "### 03.03 Recursion (Optional)"
      ]
    },
    {
      "cell_type": "markdown",
      "metadata": {},
      "source": [
        "#### 03.03.01 Reading: Review: What is Recursion?\n",
        "\n",
        "#### 03.03.02 Video: What is Recursion? (Optional)\n",
        "\n",
        "#### 03.03.03 Reading: Review: Recursion in Action in the IT Context\n",
        "\n",
        "#### 03.03.04 Video: Recursion in Action in the IT Context\n",
        "\n",
        "#### 03.03.05 Reading: Additional Recursion Sources\n",
        "\n",
        "#### 03.03.06 Practice Quiz: Recursion"
      ]
    },
    {
      "cell_type": "markdown",
      "metadata": {},
      "source": [
        "### 03.04 Module Review"
      ]
    },
    {
      "cell_type": "markdown",
      "metadata": {},
      "source": [
        "#### 03.04.01 Video: Loops Wrap Up\n",
        "\n",
        "#### 03.04.02 Video: In Marga's Words: How I Got Into Programming\n",
        "\n",
        "#### 03.04.03 Reading: Glossary Terms from Course 1, Module 3\n",
        "\n",
        "#### 03.04.04 Reading: Study Guide: Module 3 Graded Quiz\n",
        "\n",
        "#### 03.04.05 Quiz: Module 3 Graded Assessment"
      ]
    },
    {
      "cell_type": "markdown",
      "metadata": {},
      "source": [
        "&nbsp;\n",
        "\n",
        "---\n",
        "\n",
        "&nbsp;"
      ]
    },
    {
      "cell_type": "markdown",
      "metadata": {},
      "source": [
        "## Module 04 Strings, Lists and Dictionaries"
      ]
    },
    {
      "cell_type": "markdown",
      "metadata": {},
      "source": [
        "### 04.01 Strings"
      ]
    },
    {
      "cell_type": "markdown",
      "metadata": {},
      "source": [
        "#### 04.01.01 Video: Basic Structures Introduction\n",
        "\n",
        "#### 04.01.02 Reading: Review: What is a String?\n",
        "\n",
        "#### 04.01.03 Video: What is a String?\n",
        "\n",
        "#### 04.01.04 Reading: Review: The Parts of a String\n",
        "\n",
        "#### 04.01.05 Video: The Parts of a String\n",
        "\n",
        "#### 04.01.06 Reading: String Indexing and Slicing\n",
        "\n",
        "#### 04.01.07 Reading: Review: Creating New Strings\n",
        "\n",
        "#### 04.01.08 Video: Creating New Strings\n",
        "\n",
        "#### 04.01.09 Reading: Basic String Methods\n",
        "\n",
        "#### 04.01.10 Reading: Review: More String Methods\n",
        "\n",
        "#### 04.01.11 Video: More String Methods\n",
        "\n",
        "#### 04.01.12 Reading: Advanced String Methods\n",
        "\n",
        "#### 04.01.13 Reading: Review: Formatting Strings\n",
        "\n",
        "#### 04.01.14 Video: Formatting Strings\n",
        "\n",
        "#### 04.01.15 Reading: String Formatting\n",
        "\n",
        "#### 04.01.16 Reading: String Reference Guide\n",
        "\n",
        "#### 04.01.17 Reading: Formatting Strings Reference Guide\n",
        "\n",
        "#### 04.01.18 Reading: Study Guide: Strings\n",
        "\n",
        "#### 04.01.19 Practice Quiz: Strings"
      ]
    },
    {
      "cell_type": "markdown",
      "metadata": {},
      "source": [
        "### 04.02 Lists"
      ]
    },
    {
      "cell_type": "markdown",
      "metadata": {},
      "source": [
        "#### 04.02.01 Reading: Review: What is a List?\n",
        "\n",
        "#### 04.02.02 Video: What is a List?\n",
        "\n",
        "#### 04.02.03 Reading: Lists Defined\n",
        "\n",
        "#### 04.02.04 Reading: Review: Modifying the Contents of a List\n",
        "\n",
        "#### 04.02.05 Video: Modifying the Contents of a List\n",
        "\n",
        "#### 04.02.06 Reading: Review: Lists and Tuples\n",
        "\n",
        "#### 04.02.07 Video: Lists and Tuples\n",
        "\n",
        "#### 04.02.08 Reading: Tuples\n",
        "\n",
        "#### 04.02.09 Reading: Review: Iterating Over Lists and Tuples\n",
        "\n",
        "#### 04.02.10 Video: Iterating Over Lists and Tuples\n",
        "\n",
        "#### 04.02.11 Reading: Iterating Over Lists Using Enumerate\n",
        "\n",
        "#### 04.02.12 Reading: Review: List Comprehensions\n",
        "\n",
        "#### 04.02.13 Video: List Comprehensions\n",
        "\n",
        "#### 04.02.14 Video: List Comprehension vs. For Loops\n",
        "\n",
        "#### 04.02.15 Reading: List Comprehension Examples\n",
        "\n",
        "#### 04.02.16 Reading: Study Guide: List Operations and Methods\n",
        "\n",
        "#### 04.02.17 Practice Quiz: Lists"
      ]
    },
    {
      "cell_type": "markdown",
      "metadata": {},
      "source": [
        "### 04.03 Dictionaries"
      ]
    },
    {
      "cell_type": "markdown",
      "metadata": {},
      "source": [
        "#### 04.03.01 Reading: Review: What is a Dictionary? \n",
        "\n",
        "#### 04.03.02 Video: What is a Dictionary?\n",
        "\n",
        "#### 04.03.03 Reading: Dictionaries Defined\n",
        "\n",
        "#### 04.03.04 Reading: Review: Iterating Over the Contents of a Dictionary\n",
        "\n",
        "#### 04.03.05 Video: Iterating Over the Contents of a Dictionary\n",
        "\n",
        "#### 04.03.06 Reading: Use While Loops and If-else Statements for Dictionaries\n",
        "\n",
        "#### 04.03.07 Video: Dictionaries vs. Lists\n",
        "\n",
        "#### 04.03.08 Reading: Study Guide: Dictionary Methods\n",
        "\n",
        "#### 04.03.09 Practice Quiz: Dictionaries"
      ]
    },
    {
      "cell_type": "markdown",
      "metadata": {},
      "source": [
        "### 04.04 Object-oriented Programming (Optional)"
      ]
    },
    {
      "cell_type": "markdown",
      "metadata": {},
      "source": [
        "#### 04.04.01 Video: OOP Introduction (Optional)\n",
        "\n",
        "#### 04.04.02 Reading: What Is a Method?\n",
        "\n",
        "#### 04.04.03 Reading: Constructors and Other Special Methods (Optional)\n",
        "\n",
        "#### 04.04.04 Reading: Special Methods\n",
        "\n",
        "#### 04.04.05 Video: Instance Methods (Optional)\n",
        "\n",
        "#### 04.04.06 Reading: Methods as Special Operators\n",
        "\n",
        "#### 04.04.07 Reading: Study Guide: Classes and Methods (Optional)"
      ]
    },
    {
      "cell_type": "markdown",
      "metadata": {},
      "source": [
        "### 04.05 Module Review"
      ]
    },
    {
      "cell_type": "markdown",
      "metadata": {},
      "source": [
        "#### 04.05.01 Video: Basic Structures Wrap Up\n",
        "\n",
        "#### 04.05.02 Video: In Marga's Words: My Most Challenging Script\n",
        "\n",
        "#### 04.05.03 Reading: Glossary Terms from Course 1, Module 4\n",
        "\n",
        "#### 04.05.04 Reading: Study Guide: Module 4 Graded Quiz\n",
        "\n",
        "#### 04.05.05 Quiz: Module 4 Graded Assessment"
      ]
    },
    {
      "cell_type": "markdown",
      "metadata": {},
      "source": [
        "&nbsp;\n",
        "\n",
        "---\n",
        "\n",
        "&nbsp;"
      ]
    },
    {
      "cell_type": "markdown",
      "metadata": {},
      "source": [
        "## Module 05 Final Project"
      ]
    },
    {
      "cell_type": "markdown",
      "metadata": {},
      "source": [
        "### 05.01 Writing a Script from the Ground Up"
      ]
    },
    {
      "cell_type": "markdown",
      "metadata": {},
      "source": [
        "#### 05.01.01 Video: Final Project Introduction\n",
        "\n",
        "#### 05.01.02 Video: Problem Statement\n",
        "\n",
        "#### 05.01.03 Reading: Review: Research\n",
        "\n",
        "#### 05.01.04 Video: Research\n",
        "\n",
        "#### 05.01.05 Reading: Review: Planning\n",
        "\n",
        "#### 05.01.06 Video: Planning\n",
        "\n",
        "#### 05.01.07 Reading: Review: Writing the Script\n",
        "\n",
        "#### 05.01.08 Video: Writing the Script\n",
        "\n",
        "#### 05.01.09 Reading: Review: Putting It All Together\n",
        "\n",
        "#### 05.01.10 Video: Putting It All Together\n",
        "\n",
        "#### 05.01.11 Lab: Putting It All Together\n",
        "\n",
        "#### 05.01.12 Reading: Python in Action\n",
        "\n",
        "#### 05.01.13 Quiz: Module 5 Graded Assessment"
      ]
    },
    {
      "cell_type": "markdown",
      "metadata": {},
      "source": [
        "### 05.02 Course Wrap-up"
      ]
    },
    {
      "cell_type": "markdown",
      "metadata": {},
      "source": [
        "#### 05.02.01 Video: Congratulations!\n",
        "\n",
        "#### 05.02.02 Reading: Course 1 Glossary\n",
        "\n",
        "#### 05.02.03 Video: Sneak Peek of the Next Course\n",
        "\n",
        "#### 05.02.04 Reading: Finding Your Path and Perfect Role\n",
        "\n",
        "#### 05.02.05 Reading: Exploring Technical Careers\n",
        "\n",
        "#### 05.02.06 Reading: Diversity and Inclusion\n",
        "\n",
        "#### 05.02.07 Reading: Creating a Career Development Plan\n",
        "\n",
        "#### 05.02.08 Reading: Transitioning to a New Career\n",
        "\n",
        "#### 05.02.09 Reading: Getting Promoted"
      ]
    }
  ],
  "metadata": {
    "colab": {
      "provenance": []
    },
    "interpreter": {
      "hash": "2011e8f1b66e4ca782a16183c079a9a8ceaa771eb94b3143f514bb5560527e59"
    },
    "kernelspec": {
      "display_name": "Python 3.8.12 ('base')",
      "language": "python",
      "name": "python3"
    },
    "language_info": {
      "codemirror_mode": {
        "name": "ipython",
        "version": 3
      },
      "file_extension": ".py",
      "mimetype": "text/x-python",
      "name": "python",
      "nbconvert_exporter": "python",
      "pygments_lexer": "ipython3",
      "version": "3.8.12"
    },
    "orig_nbformat": 4
  },
  "nbformat": 4,
  "nbformat_minor": 0
}
