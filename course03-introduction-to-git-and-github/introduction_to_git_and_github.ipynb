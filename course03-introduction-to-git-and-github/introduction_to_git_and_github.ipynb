{
  "cells": [
    {
      "cell_type": "markdown",
      "metadata": {
        "id": "3Sj3O1BtWfVN"
      },
      "source": [
        "<img src=\"https://raw.githubusercontent.com/dark-teal-coder/dark-teal-coder/main/images/coder-no-background-000-128-128.png\"\n",
        "     alt=\"coder-black-background-000-128-128.png\" width=\"100\" height=\"100\" align=\"right\" style=\"margin:0px 5%; padding: 5px;\">\n",
        "<p>\n",
        "\tGitHub: <a href=\"https://github.com/dark-teal-coder\">@dark-teal-coder</a>\n",
        "\t<br />\n",
        "\tFirst Published Date: 2024-10-17\n",
        "\t<br />\n",
        "\tLast Modified Date: 2024-10-17\n",
        "</p>\n",
        "\n",
        "<br />\n",
        "\n",
        "___"
      ]
    },
    {
      "cell_type": "markdown",
      "metadata": {
        "id": "sK65h4lWWfVO"
      },
      "source": [
        "[![Open In Colab](https://colab.research.google.com/assets/colab-badge.svg)](https://colab.research.google.com/github/dark-teal-coder/google-cert-it-automation-with-python/blob/main/course01-crash-course-on-python/crash_course_on_python.ipynb)"
      ]
    },
    {
      "cell_type": "markdown",
      "metadata": {
        "id": "0oqQcG_RWfVP"
      },
      "source": [
        "# Course: Introduction to Git and GitHub"
      ]
    },
    {
      "cell_type": "markdown",
      "metadata": {},
      "source": [
        "&nbsp;\n",
        "\n",
        "---\n",
        "\n",
        "&nbsp;"
      ]
    },
    {
      "cell_type": "markdown",
      "metadata": {},
      "source": [
        "## Table of Contents\n",
        "\n",
        "- [Module 01 Introduction to Version Control]()\n",
        "  - [01.01 Course Introduction]()\n",
        "  - [01.02 Before Version Control]()\n",
        "  - [01.03 Version Control Systems]()\n",
        "  - [01.04 Using Git]()\n",
        "  - [01.05 Module 1 Review]()\n",
        "- [Module 02 Using Git Locally]()\n",
        "  - [02.01 Advanced Git Interaction]()\n",
        "  - [02.02 Undoing Things]()\n",
        "  - [02.03 Branching and Merging]()\n",
        "  - [02.04 Module 2 Review]()\n",
        "- [Module 03 Workinig with Remotes]()\n",
        "  - [03.01 Introduction to GitHub]()\n",
        "  - [03.02 Using a Remote Repository]()\n",
        "  - [03.03 Secure Shells & API Keys]()\n",
        "  - [03.04 Solving Conflicts]()\n",
        "  - [03.05 Module 3 Review]()\n",
        "- [Module 04 Collaboration]()\n",
        "  - [04.01 Pull Requests]()\n",
        "  - [04.02 Code Reviews]()\n",
        "  - [04.03 Managing Projects]()\n",
        "  - [04.04 Module 4 Review]()\n",
        "  - [04.05 Preparing Your Resume]()\n",
        "  - [04.06 Course Wrap Up]()"
      ]
    },
    {
      "cell_type": "markdown",
      "metadata": {},
      "source": [
        "&nbsp;\n",
        "\n",
        "---\n",
        "\n",
        "&nbsp;"
      ]
    },
    {
      "cell_type": "markdown",
      "metadata": {},
      "source": [
        "## Module 01 Introduction to Version Control"
      ]
    },
    {
      "cell_type": "markdown",
      "metadata": {},
      "source": [
        "### 01.01 Course Introduction"
      ]
    },
    {
      "cell_type": "markdown",
      "metadata": {},
      "source": [
        "#### 01.01.01 Video: Course Introduction\n",
        "\n",
        "<img src=\"https://user-images.githubusercontent.com/95575665/168158125-0d826c1a-ffea-4ea9-a2bc-f3b0f4f0b99a.png\" alt=\"youtube-logo.png\" width=\"15\" height=\"10\"> [Course Introduction](youtube-url)\n",
        "\n",
        "#### 01.01.02 Reading: Welcome to the Course"
      ]
    },
    {
      "cell_type": "markdown",
      "metadata": {},
      "source": [
        "### 01.02 Before Version Control"
      ]
    },
    {
      "cell_type": "markdown",
      "metadata": {},
      "source": [
        "#### 01.02.01 Video: Intro to Module 1: Version Control\n",
        "\n",
        "<img src=\"https://user-images.githubusercontent.com/95575665/168158125-0d826c1a-ffea-4ea9-a2bc-f3b0f4f0b99a.png\" alt=\"youtube-logo.png\" width=\"15\" height=\"10\"> [Intro to Module 1: Version Control](youtube-url)\n",
        "\n",
        "#### 01.02.02 Video: Keeping Historical Copies\n",
        "\n",
        "<img src=\"https://user-images.githubusercontent.com/95575665/168158125-0d826c1a-ffea-4ea9-a2bc-f3b0f4f0b99a.png\" alt=\"youtube-logo.png\" width=\"15\" height=\"10\"> [Keeping Historical Copies](youtube-url)\n",
        "\n",
        "#### 01.02.03 Reading: Review: Diffing Files\n",
        "\n",
        "#### 01.02.04 Video: Diffing Files\n",
        "\n",
        "<img src=\"https://user-images.githubusercontent.com/95575665/168158125-0d826c1a-ffea-4ea9-a2bc-f3b0f4f0b99a.png\" alt=\"youtube-logo.png\" width=\"15\" height=\"10\"> [Diffing Files](youtube-url)\n",
        "\n",
        "#### 01.02.05 Reading: Review: Applying Changes\n",
        "\n",
        "#### 01.02.06 Video: Applying Changes\n",
        "\n",
        "<img src=\"https://user-images.githubusercontent.com/95575665/168158125-0d826c1a-ffea-4ea9-a2bc-f3b0f4f0b99a.png\" alt=\"youtube-logo.png\" width=\"15\" height=\"10\"> [Applying Changes](youtube-url)\n",
        "\n",
        "#### 01.02.07 Reading: Review: Practical Application of Diff and Patch\n",
        "\n",
        "#### 01.02.08 Video: Practical Application of Diff and Patch\n",
        "\n",
        "<img src=\"https://user-images.githubusercontent.com/95575665/168158125-0d826c1a-ffea-4ea9-a2bc-f3b0f4f0b99a.png\" alt=\"youtube-logo.png\" width=\"15\" height=\"10\"> [Practical Application of Diff and Patch](youtube-url)\n",
        "\n",
        "#### 01.02.09 Practice Quiz: Before Version Control\n",
        "\n",
        "#### 01.02.10 Reading: Study Guide: Diff and Patch"
      ]
    },
    {
      "cell_type": "markdown",
      "metadata": {},
      "source": [
        "### 01.03 Version Control Systems"
      ]
    },
    {
      "cell_type": "markdown",
      "metadata": {},
      "source": [
        "#### 01.03.01 Video: What is Version Control?\n",
        "\n",
        "<img src=\"https://user-images.githubusercontent.com/95575665/168158125-0d826c1a-ffea-4ea9-a2bc-f3b0f4f0b99a.png\" alt=\"youtube-logo.png\" width=\"15\" height=\"10\"> [What is Version Control?](youtube-url)\n",
        "\n",
        "#### 01.03.02 Video: Version Control and Automation\n",
        "\n",
        "<img src=\"https://user-images.githubusercontent.com/95575665/168158125-0d826c1a-ffea-4ea9-a2bc-f3b0f4f0b99a.png\" alt=\"youtube-logo.png\" width=\"15\" height=\"10\"> [Version Control and Automation](youtube-url)\n",
        "\n",
        "#### 01.03.03 Video: What is Git?\n",
        "\n",
        "<img src=\"https://user-images.githubusercontent.com/95575665/168158125-0d826c1a-ffea-4ea9-a2bc-f3b0f4f0b99a.png\" alt=\"youtube-logo.png\" width=\"15\" height=\"10\"> [What is Git?](youtube-url)\n",
        "\n",
        "#### 01.03.04 Reading: More Information About Git\n",
        "\n",
        "#### 01.03.05 Video: Installing Git\n",
        "\n",
        "<img src=\"https://user-images.githubusercontent.com/95575665/168158125-0d826c1a-ffea-4ea9-a2bc-f3b0f4f0b99a.png\" alt=\"youtube-logo.png\" width=\"15\" height=\"10\"> [Installing Git](youtube-url)\n",
        "\n",
        "#### 01.03.06 Video: Installing Git on Windows (Optional)\n",
        "\n",
        "<img src=\"https://user-images.githubusercontent.com/95575665/168158125-0d826c1a-ffea-4ea9-a2bc-f3b0f4f0b99a.png\" alt=\"youtube-logo.png\" width=\"15\" height=\"10\"> [Installing Git on Windows](youtube-url)\n",
        "\n",
        "#### 01.03.07 Reading: Installing Git\n",
        "\n",
        "#### 01.03.08 Practice Quiz: Version Control Systems"
      ]
    },
    {
      "cell_type": "markdown",
      "metadata": {},
      "source": [
        "### 01.04 Using Git"
      ]
    },
    {
      "cell_type": "markdown",
      "metadata": {},
      "source": [
        "#### 01.04.01 Reading: Review: First Steps with Git\n",
        "\n",
        "#### 01.04.02 Video: First Steps with Git\n",
        "\n",
        "<img src=\"https://user-images.githubusercontent.com/95575665/168158125-0d826c1a-ffea-4ea9-a2bc-f3b0f4f0b99a.png\" alt=\"youtube-logo.png\" width=\"15\" height=\"10\"> [First Steps with Git](youtube-url)\n",
        "\n",
        "#### 01.04.03 Reading: Review: Tracking Files\n",
        "\n",
        "#### 01.04.04 Video: Tracking Files\n",
        "\n",
        "<img src=\"https://user-images.githubusercontent.com/95575665/168158125-0d826c1a-ffea-4ea9-a2bc-f3b0f4f0b99a.png\" alt=\"youtube-logo.png\" width=\"15\" height=\"10\"> [Tracking Files](youtube-url)\n",
        "\n",
        "#### 01.04.05 Reading: Review: The Basic Git Workflow\n",
        "\n",
        "#### 01.04.06 Video: The Basic Git Workflow\n",
        "\n",
        "<img src=\"https://user-images.githubusercontent.com/95575665/168158125-0d826c1a-ffea-4ea9-a2bc-f3b0f4f0b99a.png\" alt=\"youtube-logo.png\" width=\"15\" height=\"10\"> [The Basic Git Workflow](youtube-url)\n",
        "\n",
        "#### 01.04.07 Reading: Review: Anatomy of a Commit Message\n",
        "\n",
        "#### 01.04.08 Video: Anatomy of a Commit Message\n",
        "\n",
        "<img src=\"https://user-images.githubusercontent.com/95575665/168158125-0d826c1a-ffea-4ea9-a2bc-f3b0f4f0b99a.png\" alt=\"youtube-logo.png\" width=\"15\" height=\"10\"> [Anatomy of a Commit Message](youtube-url)\n",
        "\n",
        "#### 01.04.09 Reading: Study Guide: Git\n",
        "\n",
        "#### 01.04.10 Practice Quiz: Using Git"
      ]
    },
    {
      "cell_type": "markdown",
      "metadata": {},
      "source": [
        "### 01.05 Module 1 Review"
      ]
    },
    {
      "cell_type": "markdown",
      "metadata": {},
      "source": [
        "#### 01.05.01 Video: Module 1 Wrap Up: Intro to Version Control\n",
        "\n",
        "<img src=\"https://user-images.githubusercontent.com/95575665/168158125-0d826c1a-ffea-4ea9-a2bc-f3b0f4f0b99a.png\" alt=\"youtube-logo.png\" width=\"15\" height=\"10\"> [Module 1 Wrap Up: Intro to Version Control](youtube-url)\n",
        "\n",
        "#### 01.05.02 Reading: Glossary Terms from Course 3, Module 1\n",
        "\n",
        "#### 01.05.03 Reading: Qwiklabs Guidelines and Troubleshooting Steps\n",
        "\n",
        "#### 01.05.04 Qwiklabs Assessment: Introduction to Git\n",
        "\n",
        "#### 01.05.05 Reading: Exemplar: Introduction to Git\n",
        "\n",
        "#### 01.05.06 Quiz: Module 1 Challenge: Introduction to Git"
      ]
    },
    {
      "cell_type": "markdown",
      "metadata": {},
      "source": [
        "&nbsp;\n",
        "\n",
        "---\n",
        "\n",
        "&nbsp;"
      ]
    },
    {
      "cell_type": "markdown",
      "metadata": {},
      "source": [
        "## Module 02 Using Git Locally"
      ]
    },
    {
      "cell_type": "markdown",
      "metadata": {},
      "source": [
        "### 02.01 Advanced Git Interaction"
      ]
    },
    {
      "cell_type": "markdown",
      "metadata": {},
      "source": [
        "#### 02.01.01 Video: Intro to Module 2: Using Git Locally\n",
        "\n",
        "<img src=\"https://user-images.githubusercontent.com/95575665/168158125-0d826c1a-ffea-4ea9-a2bc-f3b0f4f0b99a.png\" alt=\"youtube-logo.png\" width=\"15\" height=\"10\"> [Intro to Module 2: Using Git Locally](youtube-url)\n",
        "\n",
        "#### 02.01.02 Reading: Review: Skipping the Staging Area\n",
        "\n",
        "#### 02.01.03 Video: Skipping the Staging Area\n",
        "\n",
        "<img src=\"https://user-images.githubusercontent.com/95575665/168158125-0d826c1a-ffea-4ea9-a2bc-f3b0f4f0b99a.png\" alt=\"youtube-logo.png\" width=\"15\" height=\"10\"> [Skipping the Staging Area](youtube-url)\n",
        "\n",
        "#### 02.01.04 Reading: Review: Getting More Information from the User\n",
        "\n",
        "#### 02.01.05 Video: Getting More Information About Our Changes\n",
        "\n",
        "<img src=\"https://user-images.githubusercontent.com/95575665/168158125-0d826c1a-ffea-4ea9-a2bc-f3b0f4f0b99a.png\" alt=\"youtube-logo.png\" width=\"15\" height=\"10\"> [Getting More Information About Our Changes](youtube-url)\n",
        "\n",
        "#### 02.01.06 Reading: Review: Deleting and Renaming Files\n",
        "\n",
        "#### 02.01.07 Video: Deleting and Renaming Files\n",
        "\n",
        "<img src=\"https://user-images.githubusercontent.com/95575665/168158125-0d826c1a-ffea-4ea9-a2bc-f3b0f4f0b99a.png\" alt=\"youtube-logo.png\" width=\"15\" height=\"10\"> [Deleting and Renaming Files](youtube-url)\n",
        "\n",
        "#### 02.01.08 Reading: Study Guide: Advanced Git\n",
        "\n",
        "#### 02.01.09 Practice Quiz: Advanced Git Interaction"
      ]
    },
    {
      "cell_type": "markdown",
      "metadata": {},
      "source": [
        "### 02.02 Undoing Things"
      ]
    },
    {
      "cell_type": "markdown",
      "metadata": {},
      "source": [
        "#### 02.02.01 Reading: Review: Undoing Changes Before Committing\n",
        "\n",
        "#### 02.02.02 Video: Undoing Changes Before Committing\n",
        "\n",
        "<img src=\"https://user-images.githubusercontent.com/95575665/168158125-0d826c1a-ffea-4ea9-a2bc-f3b0f4f0b99a.png\" alt=\"youtube-logo.png\" width=\"15\" height=\"10\"> [Undoing Changes Before Committing](youtube-url)\n",
        "\n",
        "#### 02.02.03 Reading: Review: Amending Commits\n",
        "\n",
        "#### 02.02.04 Video: Amending Commits\n",
        "\n",
        "<img src=\"https://user-images.githubusercontent.com/95575665/168158125-0d826c1a-ffea-4ea9-a2bc-f3b0f4f0b99a.png\" alt=\"youtube-logo.png\" width=\"15\" height=\"10\"> [Amending Commits](youtube-url)\n",
        "\n",
        "#### 02.02.05 Reading: Review: Rollbacks\n",
        "\n",
        "#### 02.02.06 Video: Rollbacks\n",
        "\n",
        "<img src=\"https://user-images.githubusercontent.com/95575665/168158125-0d826c1a-ffea-4ea9-a2bc-f3b0f4f0b99a.png\" alt=\"youtube-logo.png\" width=\"15\" height=\"10\"> [Rollbacks](youtube-url)\n",
        "\n",
        "#### 02.02.07 Reading: Review: Identifying a Commit\n",
        "\n",
        "#### 02.02.08 Video: Identifying a Commit\n",
        "\n",
        "<img src=\"https://user-images.githubusercontent.com/95575665/168158125-0d826c1a-ffea-4ea9-a2bc-f3b0f4f0b99a.png\" alt=\"youtube-logo.png\" width=\"15\" height=\"10\"> [Identifying a Commit](youtube-url)\n",
        "\n",
        "#### 02.02.09 Reading: Study Guide: Git Revert\n",
        "\n",
        "#### 02.02.10 Practice Quiz: Undoing Things"
      ]
    },
    {
      "cell_type": "markdown",
      "metadata": {},
      "source": [
        "### 02.03 Branching and Merging"
      ]
    },
    {
      "cell_type": "markdown",
      "metadata": {},
      "source": [
        "#### 02.03.01 Video: What is a Branch?\n",
        "\n",
        "<img src=\"https://user-images.githubusercontent.com/95575665/168158125-0d826c1a-ffea-4ea9-a2bc-f3b0f4f0b99a.png\" alt=\"youtube-logo.png\" width=\"15\" height=\"10\"> [What is a Branch?](youtube-url)\n",
        "\n",
        "#### 02.03.02 Reading: Review: Creating New branches\n",
        "\n",
        "#### 02.03.03 Video: Creating New Branches\n",
        "\n",
        "<img src=\"https://user-images.githubusercontent.com/95575665/168158125-0d826c1a-ffea-4ea9-a2bc-f3b0f4f0b99a.png\" alt=\"youtube-logo.png\" width=\"15\" height=\"10\"> [Creating New Branches](youtube-url)\n",
        "\n",
        "#### 02.03.04 Reading: Review: Working with Branches\n",
        "\n",
        "#### 02.03.05 Video: Working with Branches\n",
        "\n",
        "<img src=\"https://user-images.githubusercontent.com/95575665/168158125-0d826c1a-ffea-4ea9-a2bc-f3b0f4f0b99a.png\" alt=\"youtube-logo.png\" width=\"15\" height=\"10\"> [Working with Branches](youtube-url)\n",
        "\n",
        "#### 02.03.06 Reading: Review: Merging\n",
        "\n",
        "#### 02.03.07 Video: Merging\n",
        "\n",
        "<img src=\"https://user-images.githubusercontent.com/95575665/168158125-0d826c1a-ffea-4ea9-a2bc-f3b0f4f0b99a.png\" alt=\"youtube-logo.png\" width=\"15\" height=\"10\"> [Merging](youtube-url)\n",
        "\n",
        "#### 02.03.08 Reading: Review: Merge Conflicts\n",
        "\n",
        "#### 02.03.09 Video: Merge Conflicts\n",
        "\n",
        "<img src=\"https://user-images.githubusercontent.com/95575665/168158125-0d826c1a-ffea-4ea9-a2bc-f3b0f4f0b99a.png\" alt=\"youtube-logo.png\" width=\"15\" height=\"10\"> [Merge Conflicts](youtube-url)\n",
        "\n",
        "#### 02.03.10 Reading: Study Guide: Git Branches and Merging\n",
        "\n",
        "#### 02.03.11 Practice Quiz: Branching & Merging"
      ]
    },
    {
      "cell_type": "markdown",
      "metadata": {},
      "source": [
        "### 02.04 Module 2 Review"
      ]
    },
    {
      "cell_type": "markdown",
      "metadata": {},
      "source": [
        "#### 02.04.01 Video: Module 2 Wrap Up: Using Git Locally\n",
        "\n",
        "<img src=\"https://user-images.githubusercontent.com/95575665/168158125-0d826c1a-ffea-4ea9-a2bc-f3b0f4f0b99a.png\" alt=\"youtube-logo.png\" width=\"15\" height=\"10\"> [Module 2 Wrap Up: Using Git Locally](youtube-url)\n",
        "\n",
        "#### 02.04.02 Reading: Glossary Terms from Course 3, Module 2\n",
        "\n",
        "#### 02.04.03 Qwiklabs Assessment: Merge Branches in Git\n",
        "\n",
        "#### 02.04.04 Exemplar: Merging Branches in Git\n",
        "\n",
        "#### 02.04.05 Quiz: Module 2 Challenge: Merging Branches in Git"
      ]
    },
    {
      "cell_type": "markdown",
      "metadata": {},
      "source": [
        "&nbsp;\n",
        "\n",
        "---\n",
        "\n",
        "&nbsp;"
      ]
    },
    {
      "cell_type": "markdown",
      "metadata": {},
      "source": [
        "## Module 03 Workinig with Remotes"
      ]
    },
    {
      "cell_type": "markdown",
      "metadata": {},
      "source": [
        "### 03.01 Introduction to GitHub"
      ]
    },
    {
      "cell_type": "markdown",
      "metadata": {},
      "source": [
        "#### 03.01.01 Video: Intro to Module 3: Working with Remotes\n",
        "\n",
        "<img src=\"https://user-images.githubusercontent.com/95575665/168158125-0d826c1a-ffea-4ea9-a2bc-f3b0f4f0b99a.png\" alt=\"youtube-logo.png\" width=\"15\" height=\"10\"> [Intro to Module 3: Working with Remotes](youtube-url)\n",
        "\n",
        "#### 03.01.02 Video: What is GitHub?\n",
        "\n",
        "<img src=\"https://user-images.githubusercontent.com/95575665/168158125-0d826c1a-ffea-4ea9-a2bc-f3b0f4f0b99a.png\" alt=\"youtube-logo.png\" width=\"15\" height=\"10\"> [What is GitHub?](youtube-url)\n",
        "\n",
        "#### 03.01.03 Reading: Review: Basic Interaction with GitHub\n",
        "\n",
        "#### 03.01.04 Video: Basic Interaction with GitHub\n",
        "\n",
        "<img src=\"https://user-images.githubusercontent.com/95575665/168158125-0d826c1a-ffea-4ea9-a2bc-f3b0f4f0b99a.png\" alt=\"youtube-logo.png\" width=\"15\" height=\"10\"> [Basic Interaction with GitHub](youtube-url)\n",
        "\n",
        "#### 03.01.05 Reading: Study Guide: Basic Interaction with GitHub\n",
        "\n",
        "#### 03.01.06 Practice Quiz: Introduction to GitHub"
      ]
    },
    {
      "cell_type": "markdown",
      "metadata": {},
      "source": [
        "### 03.02 Using a Remote Repository"
      ]
    },
    {
      "cell_type": "markdown",
      "metadata": {},
      "source": [
        "#### 03.02.01 Video: What is a Remote?\n",
        "\n",
        "<img src=\"https://user-images.githubusercontent.com/95575665/168158125-0d826c1a-ffea-4ea9-a2bc-f3b0f4f0b99a.png\" alt=\"youtube-logo.png\" width=\"15\" height=\"10\"> [What is a Remote?](youtube-url)\n",
        "\n",
        "#### 03.02.02 Reading: Review: Working with Remotes\n",
        "\n",
        "#### 03.02.03 Video: Working with Remotes\n",
        "\n",
        "<img src=\"https://user-images.githubusercontent.com/95575665/168158125-0d826c1a-ffea-4ea9-a2bc-f3b0f4f0b99a.png\" alt=\"youtube-logo.png\" width=\"15\" height=\"10\"> [Working with Remotes](youtube-url)\n",
        "\n",
        "#### 03.02.04 Reading: Review: Fetching New Changes\n",
        "\n",
        "#### 03.02.05 Video: Fetching New Changes\n",
        "\n",
        "<img src=\"https://user-images.githubusercontent.com/95575665/168158125-0d826c1a-ffea-4ea9-a2bc-f3b0f4f0b99a.png\" alt=\"youtube-logo.png\" width=\"15\" height=\"10\"> [Fetching New Changes](youtube-url)\n",
        "\n",
        "#### 03.02.06 Reading: Review: Updating the Local Repository\n",
        "\n",
        "#### 03.02.07 Video: Updating the Local Repository\n",
        "\n",
        "<img src=\"https://user-images.githubusercontent.com/95575665/168158125-0d826c1a-ffea-4ea9-a2bc-f3b0f4f0b99a.png\" alt=\"youtube-logo.png\" width=\"15\" height=\"10\"> [Updating the Local Repository](youtube-url)\n",
        "\n",
        "#### 03.02.08 Reading: Study Guide: Git Remotes\n",
        "\n",
        "#### 03.02.09 Practice Quiz: Using a Remote Repository"
      ]
    },
    {
      "cell_type": "markdown",
      "metadata": {},
      "source": [
        "### 03.03 Secure Shells & API Keys"
      ]
    },
    {
      "cell_type": "markdown",
      "metadata": {},
      "source": [
        "#### 03.03.01 Reading: What is Secure Shell?\n",
        "\n",
        "#### 03.03.02 Reading: The SSH Protocol\n",
        "\n",
        "#### 03.03.03 Reading: Configuring SSH\n",
        "\n",
        "#### 03.03.04 Reading: API Keys\n",
        "\n",
        "#### 03.03.05 Reading: When to Use API Keys\n",
        "\n",
        "#### 03.03.06 Reading: Public vs. Private keys"
      ]
    },
    {
      "cell_type": "markdown",
      "metadata": {},
      "source": [
        "### 03.04 Solving Conflicts"
      ]
    },
    {
      "cell_type": "markdown",
      "metadata": {},
      "source": [
        "#### 03.04.01 Reading: Review: The Pull-Merge-Push Workflow\n",
        "\n",
        "#### 03.04.02 Video: The Pull-Merge-Push Workflow\n",
        "\n",
        "<img src=\"https://user-images.githubusercontent.com/95575665/168158125-0d826c1a-ffea-4ea9-a2bc-f3b0f4f0b99a.png\" alt=\"youtube-logo.png\" width=\"15\" height=\"10\"> [The Pull-Merge-Push Workflow](youtube-url)\n",
        "\n",
        "#### 03.04.03 Reading: Review: Pushing Remote Branches\n",
        "\n",
        "#### 03.04.04 Video: Pushing Remote Branches\n",
        "\n",
        "<img src=\"https://user-images.githubusercontent.com/95575665/168158125-0d826c1a-ffea-4ea9-a2bc-f3b0f4f0b99a.png\" alt=\"youtube-logo.png\" width=\"15\" height=\"10\"> [Pushing Remote Branches](youtube-url)\n",
        "\n",
        "#### 03.04.05 Reading: Review: Rebasing Your Changes\n",
        "\n",
        "#### 03.04.06 Video: Rebasing Your Changes\n",
        "\n",
        "<img src=\"https://user-images.githubusercontent.com/95575665/168158125-0d826c1a-ffea-4ea9-a2bc-f3b0f4f0b99a.png\" alt=\"youtube-logo.png\" width=\"15\" height=\"10\"> [Rebasing Your Changes](youtube-url)\n",
        "\n",
        "#### 03.04.07 Reading: Review: Another Rebasing example\n",
        "\n",
        "#### 03.04.08 Video: Another Rebasing Example\n",
        "\n",
        "<img src=\"https://user-images.githubusercontent.com/95575665/168158125-0d826c1a-ffea-4ea9-a2bc-f3b0f4f0b99a.png\" alt=\"youtube-logo.png\" width=\"15\" height=\"10\"> [Another Rebasing Example](youtube-url)\n",
        "\n",
        "#### 03.04.09 Video: Best Practices for Collaboration\n",
        "\n",
        "<img src=\"https://user-images.githubusercontent.com/95575665/168158125-0d826c1a-ffea-4ea9-a2bc-f3b0f4f0b99a.png\" alt=\"youtube-logo.png\" width=\"15\" height=\"10\"> [Best Practices for Collaboration](youtube-url)\n",
        "\n",
        "#### 03.04.10 Reading: Study Guide: Conflict Resolution\n",
        "\n",
        "#### 03.04.11 Practice Quiz: Solving Conflicts"
      ]
    },
    {
      "cell_type": "markdown",
      "metadata": {},
      "source": [
        "### 03.05 Module 3 Review"
      ]
    },
    {
      "cell_type": "markdown",
      "metadata": {},
      "source": [
        "#### 03.05.01 Video: Module 3 Wrap Up: Working with Remotes\n",
        "\n",
        "<img src=\"https://user-images.githubusercontent.com/95575665/168158125-0d826c1a-ffea-4ea9-a2bc-f3b0f4f0b99a.png\" alt=\"youtube-logo.png\" width=\"15\" height=\"10\"> [Module 3 Wrap Up: Working with Remotes](youtube-url)\n",
        "\n",
        "#### 03.05.02 Reading: Glossary Terms from Course 3, Module 3\n",
        "\n",
        "#### 03.05.03 Qwiklabs Assessment: Introduction to Github\n",
        "\n",
        "#### 03.05.04 Reading: Exemplar: Introduction to GitHub\n",
        "\n",
        "#### 03.05.05 Quiz: Module 3 Challenge: Introduction to GitHub"
      ]
    },
    {
      "cell_type": "markdown",
      "metadata": {},
      "source": [
        "&nbsp;\n",
        "\n",
        "---\n",
        "\n",
        "&nbsp;"
      ]
    },
    {
      "cell_type": "markdown",
      "metadata": {},
      "source": [
        "## Module 04 Collaboration"
      ]
    },
    {
      "cell_type": "markdown",
      "metadata": {},
      "source": [
        "### 04.01 Pull Requests"
      ]
    },
    {
      "cell_type": "markdown",
      "metadata": {},
      "source": [
        "#### 04.01.01 Video: Lesson Title\n",
        "\n",
        "<img src=\"https://user-images.githubusercontent.com/95575665/168158125-0d826c1a-ffea-4ea9-a2bc-f3b0f4f0b99a.png\" alt=\"youtube-logo.png\" width=\"15\" height=\"10\"> [YouTube Title](youtube-url)\n",
        "\n",
        "#### 04.01.02 Video: Lesson Title\n",
        "\n",
        "#### 04.01.03 Video: Lesson Title\n",
        "\n",
        "#### 04.01.04 Video: Lesson Title\n",
        "\n",
        "#### 04.01.05 Video: Lesson Title\n",
        "\n",
        "#### 04.01.06 Video: Lesson Title\n",
        "\n",
        "#### 04.01.07 Video: Lesson Title\n",
        "\n",
        "#### 04.01.08 Video: Lesson Title\n",
        "\n",
        "#### 04.01.09 Video: Lesson Title\n",
        "\n",
        "#### 04.01.10 Video: Lesson Title"
      ]
    },
    {
      "cell_type": "markdown",
      "metadata": {},
      "source": [
        "### 04.02 Code Reviews"
      ]
    },
    {
      "cell_type": "markdown",
      "metadata": {},
      "source": [
        "#### 04.02.01 Video: Lesson Title\n",
        "\n",
        "<img src=\"https://user-images.githubusercontent.com/95575665/168158125-0d826c1a-ffea-4ea9-a2bc-f3b0f4f0b99a.png\" alt=\"youtube-logo.png\" width=\"15\" height=\"10\"> [YouTube Title](youtube-url)\n",
        "\n",
        "#### 04.02.02 Video: Lesson Title\n",
        "\n",
        "#### 04.02.03 Video: Lesson Title\n",
        "\n",
        "#### 04.02.04 Video: Lesson Title\n",
        "\n",
        "#### 04.02.05 Video: Lesson Title\n",
        "\n",
        "#### 04.02.06 Video: Lesson Title\n",
        "\n",
        "#### 04.02.07 Video: Lesson Title\n",
        "\n",
        "#### 04.02.08 Video: Lesson Title\n",
        "\n",
        "#### 04.02.09 Video: Lesson Title\n",
        "\n",
        "#### 04.02.10 Video: Lesson Title"
      ]
    },
    {
      "cell_type": "markdown",
      "metadata": {},
      "source": [
        "### 04.03 Managing Projects"
      ]
    },
    {
      "cell_type": "markdown",
      "metadata": {},
      "source": [
        "#### 04.03.01 Video: Lesson Title\n",
        "\n",
        "<img src=\"https://user-images.githubusercontent.com/95575665/168158125-0d826c1a-ffea-4ea9-a2bc-f3b0f4f0b99a.png\" alt=\"youtube-logo.png\" width=\"15\" height=\"10\"> [YouTube Title](youtube-url)\n",
        "\n",
        "#### 04.03.02 Video: Lesson Title\n",
        "\n",
        "#### 04.03.03 Video: Lesson Title\n",
        "\n",
        "#### 04.03.04 Video: Lesson Title\n",
        "\n",
        "#### 04.03.05 Video: Lesson Title\n",
        "\n",
        "#### 04.03.06 Video: Lesson Title\n",
        "\n",
        "#### 04.03.07 Video: Lesson Title\n",
        "\n",
        "#### 04.03.08 Video: Lesson Title\n",
        "\n",
        "#### 04.03.09 Video: Lesson Title\n",
        "\n",
        "#### 04.03.10 Video: Lesson Title"
      ]
    },
    {
      "cell_type": "markdown",
      "metadata": {},
      "source": [
        "### 04.04 Module 4 Review"
      ]
    },
    {
      "cell_type": "markdown",
      "metadata": {},
      "source": [
        "#### 04.04.01 Video: Lesson Title\n",
        "\n",
        "<img src=\"https://user-images.githubusercontent.com/95575665/168158125-0d826c1a-ffea-4ea9-a2bc-f3b0f4f0b99a.png\" alt=\"youtube-logo.png\" width=\"15\" height=\"10\"> [YouTube Title](youtube-url)\n",
        "\n",
        "#### 04.04.02 Video: Lesson Title\n",
        "\n",
        "#### 04.04.03 Video: Lesson Title\n",
        "\n",
        "#### 04.04.04 Video: Lesson Title\n",
        "\n",
        "#### 04.04.05 Video: Lesson Title\n",
        "\n",
        "#### 04.04.06 Video: Lesson Title\n",
        "\n",
        "#### 04.04.07 Video: Lesson Title\n",
        "\n",
        "#### 04.04.08 Video: Lesson Title\n",
        "\n",
        "#### 04.04.09 Video: Lesson Title\n",
        "\n",
        "#### 04.04.10 Video: Lesson Title"
      ]
    },
    {
      "cell_type": "markdown",
      "metadata": {},
      "source": [
        "### 04.05 Preparing Your Resume"
      ]
    },
    {
      "cell_type": "markdown",
      "metadata": {},
      "source": [
        "#### 04.05.01 Video: Lesson Title\n",
        "\n",
        "<img src=\"https://user-images.githubusercontent.com/95575665/168158125-0d826c1a-ffea-4ea9-a2bc-f3b0f4f0b99a.png\" alt=\"youtube-logo.png\" width=\"15\" height=\"10\"> [YouTube Title](youtube-url)\n",
        "\n",
        "#### 04.05.02 Video: Lesson Title\n",
        "\n",
        "#### 04.05.03 Video: Lesson Title\n",
        "\n",
        "#### 04.05.04 Video: Lesson Title\n",
        "\n",
        "#### 04.05.05 Video: Lesson Title\n",
        "\n",
        "#### 04.05.06 Video: Lesson Title\n",
        "\n",
        "#### 04.05.07 Video: Lesson Title\n",
        "\n",
        "#### 04.05.08 Video: Lesson Title\n",
        "\n",
        "#### 04.05.09 Video: Lesson Title\n",
        "\n",
        "#### 04.05.10 Video: Lesson Title"
      ]
    },
    {
      "cell_type": "markdown",
      "metadata": {},
      "source": [
        "### 04.06 Course Wrap Up"
      ]
    },
    {
      "cell_type": "markdown",
      "metadata": {},
      "source": [
        "#### 04.06.01 Video: Lesson Title\n",
        "\n",
        "<img src=\"https://user-images.githubusercontent.com/95575665/168158125-0d826c1a-ffea-4ea9-a2bc-f3b0f4f0b99a.png\" alt=\"youtube-logo.png\" width=\"15\" height=\"10\"> [YouTube Title](youtube-url)\n",
        "\n",
        "#### 04.06.02 Video: Lesson Title\n",
        "\n",
        "#### 04.06.03 Video: Lesson Title\n",
        "\n",
        "#### 04.06.04 Video: Lesson Title"
      ]
    }
  ],
  "metadata": {
    "colab": {
      "provenance": []
    },
    "interpreter": {
      "hash": "2011e8f1b66e4ca782a16183c079a9a8ceaa771eb94b3143f514bb5560527e59"
    },
    "kernelspec": {
      "display_name": "Python 3.8.12 ('base')",
      "language": "python",
      "name": "python3"
    },
    "language_info": {
      "codemirror_mode": {
        "name": "ipython",
        "version": 3
      },
      "file_extension": ".py",
      "mimetype": "text/x-python",
      "name": "python",
      "nbconvert_exporter": "python",
      "pygments_lexer": "ipython3",
      "version": "3.8.12"
    },
    "orig_nbformat": 4
  },
  "nbformat": 4,
  "nbformat_minor": 0
}
