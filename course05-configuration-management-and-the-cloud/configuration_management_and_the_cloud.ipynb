{
  "cells": [
    {
      "cell_type": "markdown",
      "metadata": {
        "id": "3Sj3O1BtWfVN"
      },
      "source": [
        "<img src=\"https://raw.githubusercontent.com/dark-teal-coder/dark-teal-coder/main/images/coder-no-background-000-128-128.png\"\n",
        "     alt=\"coder-black-background-000-128-128.png\" width=\"100\" height=\"100\" align=\"right\" style=\"margin:0px 5%; padding: 5px;\">\n",
        "<p>\n",
        "\tGitHub: <a href=\"https://github.com/dark-teal-coder\">@dark-teal-coder</a>\n",
        "\t<br />\n",
        "\tFirst Published Date: 2024-10-17\n",
        "\t<br />\n",
        "\tLast Modified Date: 2024-10-17\n",
        "</p>\n",
        "\n",
        "<br />\n",
        "\n",
        "___"
      ]
    },
    {
      "cell_type": "markdown",
      "metadata": {
        "id": "sK65h4lWWfVO"
      },
      "source": [
        "[![Open In Colab](https://colab.research.google.com/assets/colab-badge.svg)](https://colab.research.google.com/github/dark-teal-coder/google-cert-it-automation-with-python/blob/main/course01-crash-course-on-python/crash_course_on_python.ipynb)"
      ]
    },
    {
      "cell_type": "markdown",
      "metadata": {
        "id": "0oqQcG_RWfVP"
      },
      "source": [
        "# Course: Configuration Management and the Cloud"
      ]
    },
    {
      "cell_type": "markdown",
      "metadata": {},
      "source": [
        "&nbsp;\n",
        "\n",
        "---\n",
        "\n",
        "&nbsp;"
      ]
    },
    {
      "cell_type": "markdown",
      "metadata": {},
      "source": [
        "## Table of Contents\n",
        "\n",
        "- [Module 01 Module Title]()\n",
        "  - [01.01 Section Title]()\n",
        "  - [01.02 Section Title]()\n",
        "  - [01.03 Section Title]()\n",
        "  - [01.04 Section Title]()\n",
        "- [Module 02 Module Title]()\n",
        "  - [02.01 Section Title]()\n",
        "  - [02.02 Section Title]()\n",
        "  - [02.03 Section Title]()\n",
        "  - [02.04 Section Title]()\n",
        "- [Module 03 Module Title]()\n",
        "  - [03.01 Section Title]()\n",
        "  - [03.02 Section Title]()\n",
        "  - [03.03 Section Title]()\n",
        "  - [03.04 Section Title]()\n",
        "- [Module 04 Module Title]()\n",
        "  - [04.01 Section Title]()\n",
        "  - [04.02 Section Title]()\n",
        "  - [04.03 Section Title]()\n",
        "  - [04.04 Section Title]()"
      ]
    },
    {
      "cell_type": "markdown",
      "metadata": {},
      "source": [
        "&nbsp;\n",
        "\n",
        "---\n",
        "\n",
        "&nbsp;"
      ]
    },
    {
      "cell_type": "markdown",
      "metadata": {},
      "source": [
        "## Module 01 Module Title"
      ]
    },
    {
      "cell_type": "markdown",
      "metadata": {},
      "source": [
        "### 01.01 Section Title"
      ]
    },
    {
      "cell_type": "markdown",
      "metadata": {},
      "source": [
        "#### 01.01.01 Video: Lesson Title\n",
        "\n",
        "<img src=\"https://user-images.githubusercontent.com/95575665/168158125-0d826c1a-ffea-4ea9-a2bc-f3b0f4f0b99a.png\" alt=\"youtube-logo.png\" width=\"15\" height=\"10\"> [YouTube Title](youtube-url)\n",
        "\n",
        "#### 01.01.02 Video: Lesson Title\n",
        "\n",
        "#### 01.01.03 Video: Lesson Title\n",
        "\n",
        "#### 01.01.04 Video: Lesson Title\n",
        "\n",
        "#### 01.01.05 Video: Lesson Title\n",
        "\n",
        "#### 01.01.06 Video: Lesson Title\n",
        "\n",
        "#### 01.01.07 Video: Lesson Title\n",
        "\n",
        "#### 01.01.08 Video: Lesson Title\n",
        "\n",
        "#### 01.01.09 Video: Lesson Title\n",
        "\n",
        "#### 01.01.10 Video: Lesson Title"
      ]
    },
    {
      "cell_type": "markdown",
      "metadata": {},
      "source": [
        "### 01.02 Section Title"
      ]
    },
    {
      "cell_type": "markdown",
      "metadata": {},
      "source": [
        "#### 01.02.01 Video: Lesson Title\n",
        "\n",
        "<img src=\"https://user-images.githubusercontent.com/95575665/168158125-0d826c1a-ffea-4ea9-a2bc-f3b0f4f0b99a.png\" alt=\"youtube-logo.png\" width=\"15\" height=\"10\"> [YouTube Title](youtube-url)\n",
        "\n",
        "#### 01.02.02 Video: Lesson Title\n",
        "\n",
        "#### 01.02.03 Video: Lesson Title\n",
        "\n",
        "#### 01.02.04 Video: Lesson Title\n",
        "\n",
        "#### 01.02.05 Video: Lesson Title\n",
        "\n",
        "#### 01.02.06 Video: Lesson Title\n",
        "\n",
        "#### 01.02.07 Video: Lesson Title\n",
        "\n",
        "#### 01.02.08 Video: Lesson Title\n",
        "\n",
        "#### 01.02.09 Video: Lesson Title\n",
        "\n",
        "#### 01.02.10 Video: Lesson Title"
      ]
    },
    {
      "cell_type": "markdown",
      "metadata": {},
      "source": [
        "### 01.03 Section Title"
      ]
    },
    {
      "cell_type": "markdown",
      "metadata": {},
      "source": [
        "#### 01.03.01 Video: Lesson Title\n",
        "\n",
        "<img src=\"https://user-images.githubusercontent.com/95575665/168158125-0d826c1a-ffea-4ea9-a2bc-f3b0f4f0b99a.png\" alt=\"youtube-logo.png\" width=\"15\" height=\"10\"> [YouTube Title](youtube-url)\n",
        "\n",
        "#### 01.03.02 Video: Lesson Title\n",
        "\n",
        "#### 01.03.03 Video: Lesson Title\n",
        "\n",
        "#### 01.03.04 Video: Lesson Title\n",
        "\n",
        "#### 01.03.05 Video: Lesson Title\n",
        "\n",
        "#### 01.03.06 Video: Lesson Title\n",
        "\n",
        "#### 01.03.07 Video: Lesson Title\n",
        "\n",
        "#### 01.03.08 Video: Lesson Title\n",
        "\n",
        "#### 01.03.09 Video: Lesson Title\n",
        "\n",
        "#### 01.03.10 Video: Lesson Title"
      ]
    },
    {
      "cell_type": "markdown",
      "metadata": {},
      "source": [
        "### 01.04 Section Title"
      ]
    },
    {
      "cell_type": "markdown",
      "metadata": {},
      "source": [
        "#### 01.04.01 Video: Lesson Title\n",
        "\n",
        "<img src=\"https://user-images.githubusercontent.com/95575665/168158125-0d826c1a-ffea-4ea9-a2bc-f3b0f4f0b99a.png\" alt=\"youtube-logo.png\" width=\"15\" height=\"10\"> [YouTube Title](youtube-url)\n",
        "\n",
        "#### 01.04.02 Video: Lesson Title\n",
        "\n",
        "#### 01.04.03 Video: Lesson Title\n",
        "\n",
        "#### 01.04.04 Video: Lesson Title\n",
        "\n",
        "#### 01.04.05 Video: Lesson Title\n",
        "\n",
        "#### 01.04.06 Video: Lesson Title\n",
        "\n",
        "#### 01.04.07 Video: Lesson Title\n",
        "\n",
        "#### 01.04.08 Video: Lesson Title\n",
        "\n",
        "#### 01.04.09 Video: Lesson Title\n",
        "\n",
        "#### 01.04.10 Video: Lesson Title"
      ]
    },
    {
      "cell_type": "markdown",
      "metadata": {},
      "source": [
        "&nbsp;\n",
        "\n",
        "---\n",
        "\n",
        "&nbsp;"
      ]
    },
    {
      "cell_type": "markdown",
      "metadata": {},
      "source": [
        "## Module 02 Module Title"
      ]
    },
    {
      "cell_type": "markdown",
      "metadata": {},
      "source": [
        "### 02.01 Section Title"
      ]
    },
    {
      "cell_type": "markdown",
      "metadata": {},
      "source": [
        "#### 02.01.01 Video: Lesson Title\n",
        "\n",
        "<img src=\"https://user-images.githubusercontent.com/95575665/168158125-0d826c1a-ffea-4ea9-a2bc-f3b0f4f0b99a.png\" alt=\"youtube-logo.png\" width=\"15\" height=\"10\"> [YouTube Title](youtube-url)\n",
        "\n",
        "#### 02.01.02 Video: Lesson Title\n",
        "\n",
        "#### 02.01.03 Video: Lesson Title\n",
        "\n",
        "#### 02.01.04 Video: Lesson Title\n",
        "\n",
        "#### 02.01.05 Video: Lesson Title\n",
        "\n",
        "#### 02.01.06 Video: Lesson Title\n",
        "\n",
        "#### 02.01.07 Video: Lesson Title\n",
        "\n",
        "#### 02.01.08 Video: Lesson Title\n",
        "\n",
        "#### 02.01.09 Video: Lesson Title\n",
        "\n",
        "#### 02.01.10 Video: Lesson Title"
      ]
    },
    {
      "cell_type": "markdown",
      "metadata": {},
      "source": [
        "### 02.02 Section Title"
      ]
    },
    {
      "cell_type": "markdown",
      "metadata": {},
      "source": [
        "#### 02.02.01 Video: Lesson Title\n",
        "\n",
        "<img src=\"https://user-images.githubusercontent.com/95575665/168158125-0d826c1a-ffea-4ea9-a2bc-f3b0f4f0b99a.png\" alt=\"youtube-logo.png\" width=\"15\" height=\"10\"> [YouTube Title](youtube-url)\n",
        "\n",
        "#### 02.02.02 Video: Lesson Title\n",
        "\n",
        "#### 02.02.03 Video: Lesson Title\n",
        "\n",
        "#### 02.02.04 Video: Lesson Title\n",
        "\n",
        "#### 02.02.05 Video: Lesson Title\n",
        "\n",
        "#### 02.02.06 Video: Lesson Title\n",
        "\n",
        "#### 02.02.07 Video: Lesson Title\n",
        "\n",
        "#### 02.02.08 Video: Lesson Title\n",
        "\n",
        "#### 02.02.09 Video: Lesson Title\n",
        "\n",
        "#### 02.02.10 Video: Lesson Title"
      ]
    },
    {
      "cell_type": "markdown",
      "metadata": {},
      "source": [
        "### 02.03 Section Title"
      ]
    },
    {
      "cell_type": "markdown",
      "metadata": {},
      "source": [
        "#### 02.03.01 Video: Lesson Title\n",
        "\n",
        "<img src=\"https://user-images.githubusercontent.com/95575665/168158125-0d826c1a-ffea-4ea9-a2bc-f3b0f4f0b99a.png\" alt=\"youtube-logo.png\" width=\"15\" height=\"10\"> [YouTube Title](youtube-url)\n",
        "\n",
        "#### 02.03.02 Video: Lesson Title\n",
        "\n",
        "#### 02.03.03 Video: Lesson Title\n",
        "\n",
        "#### 02.03.04 Video: Lesson Title\n",
        "\n",
        "#### 02.03.05 Video: Lesson Title\n",
        "\n",
        "#### 02.03.06 Video: Lesson Title\n",
        "\n",
        "#### 02.03.07 Video: Lesson Title\n",
        "\n",
        "#### 02.03.08 Video: Lesson Title\n",
        "\n",
        "#### 02.03.09 Video: Lesson Title\n",
        "\n",
        "#### 02.03.10 Video: Lesson Title"
      ]
    },
    {
      "cell_type": "markdown",
      "metadata": {},
      "source": [
        "### 02.04 Section Title"
      ]
    },
    {
      "cell_type": "markdown",
      "metadata": {},
      "source": [
        "#### 02.04.01 Video: Lesson Title\n",
        "\n",
        "<img src=\"https://user-images.githubusercontent.com/95575665/168158125-0d826c1a-ffea-4ea9-a2bc-f3b0f4f0b99a.png\" alt=\"youtube-logo.png\" width=\"15\" height=\"10\"> [YouTube Title](youtube-url)\n",
        "\n",
        "#### 02.04.02 Video: Lesson Title\n",
        "\n",
        "#### 02.04.03 Video: Lesson Title\n",
        "\n",
        "#### 02.04.04 Video: Lesson Title\n",
        "\n",
        "#### 02.04.05 Video: Lesson Title\n",
        "\n",
        "#### 02.04.06 Video: Lesson Title\n",
        "\n",
        "#### 02.04.07 Video: Lesson Title\n",
        "\n",
        "#### 02.04.08 Video: Lesson Title\n",
        "\n",
        "#### 02.04.09 Video: Lesson Title\n",
        "\n",
        "#### 02.04.10 Video: Lesson Title"
      ]
    },
    {
      "cell_type": "markdown",
      "metadata": {},
      "source": [
        "&nbsp;\n",
        "\n",
        "---\n",
        "\n",
        "&nbsp;"
      ]
    },
    {
      "cell_type": "markdown",
      "metadata": {},
      "source": [
        "## Module 03 Module Title"
      ]
    },
    {
      "cell_type": "markdown",
      "metadata": {},
      "source": [
        "### 03.01 Section Title"
      ]
    },
    {
      "cell_type": "markdown",
      "metadata": {},
      "source": [
        "#### 03.01.01 Video: Lesson Title\n",
        "\n",
        "<img src=\"https://user-images.githubusercontent.com/95575665/168158125-0d826c1a-ffea-4ea9-a2bc-f3b0f4f0b99a.png\" alt=\"youtube-logo.png\" width=\"15\" height=\"10\"> [YouTube Title](youtube-url)\n",
        "\n",
        "#### 03.01.02 Video: Lesson Title\n",
        "\n",
        "#### 03.01.03 Video: Lesson Title\n",
        "\n",
        "#### 03.01.04 Video: Lesson Title\n",
        "\n",
        "#### 03.01.05 Video: Lesson Title\n",
        "\n",
        "#### 03.01.06 Video: Lesson Title\n",
        "\n",
        "#### 03.01.07 Video: Lesson Title\n",
        "\n",
        "#### 03.01.08 Video: Lesson Title\n",
        "\n",
        "#### 03.01.09 Video: Lesson Title\n",
        "\n",
        "#### 03.01.10 Video: Lesson Title"
      ]
    },
    {
      "cell_type": "markdown",
      "metadata": {},
      "source": [
        "### 03.02 Section Title"
      ]
    },
    {
      "cell_type": "markdown",
      "metadata": {},
      "source": [
        "#### 03.02.01 Video: Lesson Title\n",
        "\n",
        "<img src=\"https://user-images.githubusercontent.com/95575665/168158125-0d826c1a-ffea-4ea9-a2bc-f3b0f4f0b99a.png\" alt=\"youtube-logo.png\" width=\"15\" height=\"10\"> [YouTube Title](youtube-url)\n",
        "\n",
        "#### 03.02.02 Video: Lesson Title\n",
        "\n",
        "#### 03.02.03 Video: Lesson Title\n",
        "\n",
        "#### 03.02.04 Video: Lesson Title\n",
        "\n",
        "#### 03.02.05 Video: Lesson Title\n",
        "\n",
        "#### 03.02.06 Video: Lesson Title\n",
        "\n",
        "#### 03.02.07 Video: Lesson Title\n",
        "\n",
        "#### 03.02.08 Video: Lesson Title\n",
        "\n",
        "#### 03.02.09 Video: Lesson Title\n",
        "\n",
        "#### 03.02.10 Video: Lesson Title"
      ]
    },
    {
      "cell_type": "markdown",
      "metadata": {},
      "source": [
        "### 03.03 Section Title"
      ]
    },
    {
      "cell_type": "markdown",
      "metadata": {},
      "source": [
        "#### 03.03.01 Video: Lesson Title\n",
        "\n",
        "<img src=\"https://user-images.githubusercontent.com/95575665/168158125-0d826c1a-ffea-4ea9-a2bc-f3b0f4f0b99a.png\" alt=\"youtube-logo.png\" width=\"15\" height=\"10\"> [YouTube Title](youtube-url)\n",
        "\n",
        "#### 03.03.02 Video: Lesson Title\n",
        "\n",
        "#### 03.03.03 Video: Lesson Title\n",
        "\n",
        "#### 03.03.04 Video: Lesson Title\n",
        "\n",
        "#### 03.03.05 Video: Lesson Title\n",
        "\n",
        "#### 03.03.06 Video: Lesson Title\n",
        "\n",
        "#### 03.03.07 Video: Lesson Title\n",
        "\n",
        "#### 03.03.08 Video: Lesson Title\n",
        "\n",
        "#### 03.03.09 Video: Lesson Title\n",
        "\n",
        "#### 03.03.10 Video: Lesson Title"
      ]
    },
    {
      "cell_type": "markdown",
      "metadata": {},
      "source": [
        "### 03.04 Section Title"
      ]
    },
    {
      "cell_type": "markdown",
      "metadata": {},
      "source": [
        "#### 03.04.01 Video: Lesson Title\n",
        "\n",
        "<img src=\"https://user-images.githubusercontent.com/95575665/168158125-0d826c1a-ffea-4ea9-a2bc-f3b0f4f0b99a.png\" alt=\"youtube-logo.png\" width=\"15\" height=\"10\"> [YouTube Title](youtube-url)\n",
        "\n",
        "#### 03.04.02 Video: Lesson Title\n",
        "\n",
        "#### 03.04.03 Video: Lesson Title\n",
        "\n",
        "#### 03.04.04 Video: Lesson Title\n",
        "\n",
        "#### 03.04.05 Video: Lesson Title\n",
        "\n",
        "#### 03.04.06 Video: Lesson Title\n",
        "\n",
        "#### 03.04.07 Video: Lesson Title\n",
        "\n",
        "#### 03.04.08 Video: Lesson Title\n",
        "\n",
        "#### 03.04.09 Video: Lesson Title\n",
        "\n",
        "#### 03.04.10 Video: Lesson Title"
      ]
    },
    {
      "cell_type": "markdown",
      "metadata": {},
      "source": [
        "&nbsp;\n",
        "\n",
        "---\n",
        "\n",
        "&nbsp;"
      ]
    },
    {
      "cell_type": "markdown",
      "metadata": {},
      "source": [
        "## Module 04 Module Title"
      ]
    },
    {
      "cell_type": "markdown",
      "metadata": {},
      "source": [
        "### 04.01 Section Title"
      ]
    },
    {
      "cell_type": "markdown",
      "metadata": {},
      "source": [
        "#### 04.01.01 Video: Lesson Title\n",
        "\n",
        "<img src=\"https://user-images.githubusercontent.com/95575665/168158125-0d826c1a-ffea-4ea9-a2bc-f3b0f4f0b99a.png\" alt=\"youtube-logo.png\" width=\"15\" height=\"10\"> [YouTube Title](youtube-url)\n",
        "\n",
        "#### 04.01.02 Video: Lesson Title\n",
        "\n",
        "#### 04.01.03 Video: Lesson Title\n",
        "\n",
        "#### 04.01.04 Video: Lesson Title\n",
        "\n",
        "#### 04.01.05 Video: Lesson Title\n",
        "\n",
        "#### 04.01.06 Video: Lesson Title\n",
        "\n",
        "#### 04.01.07 Video: Lesson Title\n",
        "\n",
        "#### 04.01.08 Video: Lesson Title\n",
        "\n",
        "#### 04.01.09 Video: Lesson Title\n",
        "\n",
        "#### 04.01.10 Video: Lesson Title"
      ]
    },
    {
      "cell_type": "markdown",
      "metadata": {},
      "source": [
        "### 04.02 Section Title"
      ]
    },
    {
      "cell_type": "markdown",
      "metadata": {},
      "source": [
        "#### 04.02.01 Video: Lesson Title\n",
        "\n",
        "<img src=\"https://user-images.githubusercontent.com/95575665/168158125-0d826c1a-ffea-4ea9-a2bc-f3b0f4f0b99a.png\" alt=\"youtube-logo.png\" width=\"15\" height=\"10\"> [YouTube Title](youtube-url)\n",
        "\n",
        "#### 04.02.02 Video: Lesson Title\n",
        "\n",
        "#### 04.02.03 Video: Lesson Title\n",
        "\n",
        "#### 04.02.04 Video: Lesson Title\n",
        "\n",
        "#### 04.02.05 Video: Lesson Title\n",
        "\n",
        "#### 04.02.06 Video: Lesson Title\n",
        "\n",
        "#### 04.02.07 Video: Lesson Title\n",
        "\n",
        "#### 04.02.08 Video: Lesson Title\n",
        "\n",
        "#### 04.02.09 Video: Lesson Title\n",
        "\n",
        "#### 04.02.10 Video: Lesson Title"
      ]
    },
    {
      "cell_type": "markdown",
      "metadata": {},
      "source": [
        "### 04.03 Section Title"
      ]
    },
    {
      "cell_type": "markdown",
      "metadata": {},
      "source": [
        "#### 04.03.01 Video: Lesson Title\n",
        "\n",
        "<img src=\"https://user-images.githubusercontent.com/95575665/168158125-0d826c1a-ffea-4ea9-a2bc-f3b0f4f0b99a.png\" alt=\"youtube-logo.png\" width=\"15\" height=\"10\"> [YouTube Title](youtube-url)\n",
        "\n",
        "#### 04.03.02 Video: Lesson Title\n",
        "\n",
        "#### 04.03.03 Video: Lesson Title\n",
        "\n",
        "#### 04.03.04 Video: Lesson Title\n",
        "\n",
        "#### 04.03.05 Video: Lesson Title\n",
        "\n",
        "#### 04.03.06 Video: Lesson Title\n",
        "\n",
        "#### 04.03.07 Video: Lesson Title\n",
        "\n",
        "#### 04.03.08 Video: Lesson Title\n",
        "\n",
        "#### 04.03.09 Video: Lesson Title\n",
        "\n",
        "#### 04.03.10 Video: Lesson Title"
      ]
    },
    {
      "cell_type": "markdown",
      "metadata": {},
      "source": [
        "### 04.04 Section Title"
      ]
    },
    {
      "cell_type": "markdown",
      "metadata": {},
      "source": [
        "#### 04.04.01 Video: Lesson Title\n",
        "\n",
        "<img src=\"https://user-images.githubusercontent.com/95575665/168158125-0d826c1a-ffea-4ea9-a2bc-f3b0f4f0b99a.png\" alt=\"youtube-logo.png\" width=\"15\" height=\"10\"> [YouTube Title](youtube-url)\n",
        "\n",
        "#### 04.04.02 Video: Lesson Title\n",
        "\n",
        "#### 04.04.03 Video: Lesson Title\n",
        "\n",
        "#### 04.04.04 Video: Lesson Title\n",
        "\n",
        "#### 04.04.05 Video: Lesson Title\n",
        "\n",
        "#### 04.04.06 Video: Lesson Title\n",
        "\n",
        "#### 04.04.07 Video: Lesson Title\n",
        "\n",
        "#### 04.04.08 Video: Lesson Title\n",
        "\n",
        "#### 04.04.09 Video: Lesson Title\n",
        "\n",
        "#### 04.04.10 Video: Lesson Title"
      ]
    }
  ],
  "metadata": {
    "colab": {
      "provenance": []
    },
    "interpreter": {
      "hash": "2011e8f1b66e4ca782a16183c079a9a8ceaa771eb94b3143f514bb5560527e59"
    },
    "kernelspec": {
      "display_name": "Python 3.8.12 ('base')",
      "language": "python",
      "name": "python3"
    },
    "language_info": {
      "codemirror_mode": {
        "name": "ipython",
        "version": 3
      },
      "file_extension": ".py",
      "mimetype": "text/x-python",
      "name": "python",
      "nbconvert_exporter": "python",
      "pygments_lexer": "ipython3",
      "version": "3.8.12"
    },
    "orig_nbformat": 4
  },
  "nbformat": 4,
  "nbformat_minor": 0
}
