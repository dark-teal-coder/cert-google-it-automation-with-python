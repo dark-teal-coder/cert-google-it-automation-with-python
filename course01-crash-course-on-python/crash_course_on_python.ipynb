{
  "cells": [
    {
      "cell_type": "markdown",
      "metadata": {
        "id": "3Sj3O1BtWfVN"
      },
      "source": [
        "<img src=\"https://raw.githubusercontent.com/dark-teal-coder/dark-teal-coder/main/images/coder-no-background-000-128-128.png\"\n",
        "     alt=\"coder-black-background-000-128-128.png\" width=\"100\" height=\"100\" align=\"right\" style=\"margin:0px 5%; padding: 5px;\">\n",
        "<p>\n",
        "\tGitHub: <a href=\"https://github.com/dark-teal-coder\">@dark-teal-coder</a>\n",
        "\t<br />\n",
        "\tFirst Published Date: 2024-10-16\n",
        "\t<br />\n",
        "\tLast Modified Date: 2024-10-18\n",
        "</p>\n",
        "\n",
        "<br />\n",
        "\n",
        "___"
      ]
    },
    {
      "cell_type": "markdown",
      "metadata": {
        "id": "sK65h4lWWfVO"
      },
      "source": [
        "[![Open In Colab](https://colab.research.google.com/assets/colab-badge.svg)](https://colab.research.google.com/github/dark-teal-coder/google-cert-it-automation-with-python/blob/main/course01-crash-course-on-python/crash_course_on_python.ipynb)"
      ]
    },
    {
      "cell_type": "markdown",
      "metadata": {
        "id": "0oqQcG_RWfVP"
      },
      "source": [
        "# Course: Crash Course on Python"
      ]
    },
    {
      "cell_type": "markdown",
      "metadata": {},
      "source": [
        "&nbsp;\n",
        "\n",
        "---\n",
        "\n",
        "&nbsp;"
      ]
    },
    {
      "cell_type": "markdown",
      "metadata": {},
      "source": [
        "## Table of Contents\n",
        "\n",
        "- [Module 01 Hello Python!](#module-01-hello-python!)\n",
        "  - [01.01 Course Introduction](#0101-course-introduction)\n",
        "  - [01.02 Introduction to Programming](#0102-introduction-to-programming)\n",
        "  - [01.03 Introduction to Python](#0103-introduction-to-python)\n",
        "  - [01.04 Hello World](#0104-hello-world)\n",
        "  - [01.05 Module Review](#0105-module-review)\n",
        "- [Module 02 Basic Python Syntax](#module-02-basic-python-syntax)\n",
        "  - [02.01 Expressions and Variables](#0201-expressions-and-variables)\n",
        "  - [02.02 Functions](#0202-functions)\n",
        "  - [02.03 Conditionals](#0203-conditionals)\n",
        "  - [02.04 Module Review](#0204-module-review)\n",
        "- [Module 03 Loops](#module-03-loops)\n",
        "  - [03.01 While Loops](#0301-while-loops)\n",
        "  - [03.02 For Loops](#0302-for-loops)\n",
        "  - [03.03 Recursion (Optional)](#0303-recursion-optional)\n",
        "  - [03.04 Module Review](#0304-module-review)\n",
        "- [Module 04 Strings, Lists and Dictionaries](#module-04-strings-lists-and-dictionaries)\n",
        "  - [04.01 Strings](#0401-strings)\n",
        "  - [04.02 Lists](#0402-lists)\n",
        "  - [04.03 Dictionaries](#0403-dictionaries)\n",
        "  - [04.04 Object-oriented Programming (Optional)](#0404-object-oriented-programming-optional)\n",
        "  - [04.05 Module Review](#0405-module-review)\n",
        "- [Module 05 Final Project](#module-05-final-project)\n",
        "  - [05.01 Writing a Script from the Ground Up](#0501-writing-a-script-from-the-ground-up)\n",
        "  - [05.02 Course Wrap-up](#0502-course-wrap-up)"
      ]
    },
    {
      "cell_type": "markdown",
      "metadata": {},
      "source": [
        "&nbsp;\n",
        "\n",
        "---\n",
        "\n",
        "&nbsp;"
      ]
    },
    {
      "cell_type": "code",
      "execution_count": 26,
      "metadata": {
        "vscode": {
          "languageId": "html"
        }
      },
      "outputs": [
        {
          "data": {
            "text/html": [
              "\n",
              "<!DOCTYPE html>\n",
              "<html>\n",
              "\t<body>\n",
              "\t\t<p><u>Question 1:</u> What's a computer program?</p>\n",
              "\t\t<br>\n",
              "\t\t<form>\n",
              "\t\t<input type=\"radio\" name=\"choice\" value=\"A\"> A) A set of languages available in the computer<br>\n",
              "\t\t<input type=\"radio\" name=\"choice\" value=\"B\"> B) A process for getting duplicate values removed from a list<br>\n",
              "\t\t<input type=\"radio\" name=\"choice\" value=\"C\"> C) A list of instructions that the computer has to follow to reach a goal<br>\n",
              "\t\t<input type=\"radio\" name=\"choice\" value=\"D\"> D) A file that gets copied to all machines in the network<br>\n",
              "\t\t</form>\n",
              "\t\t<br>\n",
              "\t\t<button onclick=\"submitAnswer()\">Submit</button>\n",
              "\t</body>\n",
              "\t<script>\n",
              "\t\tvar submitAnswer = function() {\n",
              "\t\t\tvar radios = document.getElementsByName('choice');\n",
              "\t\t\tvar val = \"\";\n",
              "\t\t\tfor (var i = 0, length = radios.length; i < length; i++) {\n",
              "\t\t\t\tif (radios[i].checked) {\n",
              "\t\t\t\t\tval = radios[i].value; \n",
              "\t\t\t\t\tbreak;\n",
              "\t\t\t\t}\n",
              "\t\t\t}\n",
              "\t\t\tif (val == \"\") {\n",
              "\t\t\t\talert('Please select the correct answer.');\n",
              "\t\t\t} else if (val == \"C\") {\n",
              "\t\t\t\talert('Correct!');\n",
              "\t\t\t} else {\n",
              "\t\t\t\talert('Incorrect!');\n",
              "\t\t\t}\n",
              "\t\t};\n",
              "\t</script>\n",
              "</html>\n"
            ],
            "text/plain": [
              "<IPython.core.display.HTML object>"
            ]
          },
          "metadata": {},
          "output_type": "display_data"
        }
      ],
      "source": [
        "%%html\n",
        "\n",
        "<!DOCTYPE html>\n",
        "<html>\n",
        "\t<body>\n",
        "\t\t<p><u>Question 1:</u> What's a computer program?</p>\n",
        "\t\t<br>\n",
        "\t\t<form>\n",
        "\t\t<input type=\"radio\" name=\"choice\" value=\"A\"> A) A set of languages available in the computer<br>\n",
        "\t\t<input type=\"radio\" name=\"choice\" value=\"B\"> B) A process for getting duplicate values removed from a list<br>\n",
        "\t\t<input type=\"radio\" name=\"choice\" value=\"C\"> C) A list of instructions that the computer has to follow to reach a goal<br>\n",
        "\t\t<input type=\"radio\" name=\"choice\" value=\"D\"> D) A file that gets copied to all machines in the network<br>\n",
        "\t\t</form>\n",
        "\t\t<br>\n",
        "\t\t<button onclick=\"submitAnswer()\">Submit</button>\n",
        "\t</body>\n",
        "\t<script>\n",
        "\t\tvar submitAnswer = function() {\n",
        "\t\t\tvar radios = document.getElementsByName('choice');\n",
        "\t\t\tvar val = \"\";\n",
        "\t\t\tfor (var i = 0, length = radios.length; i < length; i++) {\n",
        "\t\t\t\tif (radios[i].checked) {\n",
        "\t\t\t\t\tval = radios[i].value; \n",
        "\t\t\t\t\tbreak;\n",
        "\t\t\t\t}\n",
        "\t\t\t}\n",
        "\t\t\tif (val == \"\") {\n",
        "\t\t\t\talert('Please select the correct answer.');\n",
        "\t\t\t} else if (val == \"C\") {\n",
        "\t\t\t\talert('Correct!');\n",
        "\t\t\t} else {\n",
        "\t\t\t\talert('Incorrect!');\n",
        "\t\t\t}\n",
        "\t\t};\n",
        "\t</script>\n",
        "</html>"
      ]
    },
    {
      "cell_type": "markdown",
      "metadata": {},
      "source": [
        "Question 1: What's a computer program?\n",
        "\n",
        "- [ ] A) A set of languages available in the computer\n",
        "- [ ] B) A process for getting duplicate values removed from a list\n",
        "- [ ] C) A list of instructions that the computer has to follow to reach a goal\n",
        "- [ ] D) A file that gets copied to all machines in the network"
      ]
    },
    {
      "cell_type": "markdown",
      "metadata": {},
      "source": [
        "## Module 01 Hello Python!"
      ]
    },
    {
      "cell_type": "markdown",
      "metadata": {},
      "source": [
        "### 01.01 Course Introduction"
      ]
    },
    {
      "cell_type": "markdown",
      "metadata": {},
      "source": [
        "#### 01.01.01 Video: Specialization Introduction\n",
        "\n",
        "<img src=\"https://user-images.githubusercontent.com/95575665/168158125-0d826c1a-ffea-4ea9-a2bc-f3b0f4f0b99a.png\" alt=\"youtube-logo.png\" width=\"15\" height=\"10\"> [Specialization Introduction](https://www.youtube.com/watch?v=wgoJqCy6aeU)\n",
        "\n",
        "#### 01.01.02 Video: Course Introduction\n",
        "\n",
        "<img src=\"https://user-images.githubusercontent.com/95575665/168158125-0d826c1a-ffea-4ea9-a2bc-f3b0f4f0b99a.png\" alt=\"youtube-logo.png\" width=\"15\" height=\"10\"> [Course Introduction](https://www.youtube.com/watch?v=P_RChsEAEuc)\n",
        "\n",
        "#### 01.01.03 Reading: Welcome to the Program\n",
        "\n",
        "##### Program Prerequisites\n",
        "\n",
        "This program requires no previous knowledge of programming. Familiarity with basic IT concepts, like operating systems, files and processes, networking, and data management will be required in further courses. For learners with no IT background at all, we recommend taking the [Google IT Support Professional Certificate](https://www.coursera.org/professional-certificates/google-it-support).\n",
        "\n",
        "##### Finding Out More Information\n",
        "\n",
        "- [The Python Tutorial](https://docs.python.org/3/tutorial/index.html)\n",
        "- [The Python Language Reference](https://docs.python.org/3/reference/index.html)"
      ]
    },
    {
      "cell_type": "markdown",
      "metadata": {},
      "source": [
        "### 01.02 Introduction to Programming"
      ]
    },
    {
      "cell_type": "markdown",
      "metadata": {},
      "source": [
        "#### 01.02.01 Video: The Beginning of Your Programming Journey\n",
        "\n",
        "<img src=\"https://user-images.githubusercontent.com/95575665/168158125-0d826c1a-ffea-4ea9-a2bc-f3b0f4f0b99a.png\" alt=\"youtube-logo.png\" width=\"15\" height=\"10\"> [The Beginning of Your Programming Journey](https://www.youtube.com/watch?v=_NaMdKwArM0)\n",
        "\n",
        "#### 01.02.02 Video: What is Programming?\n",
        "\n",
        "<img src=\"https://user-images.githubusercontent.com/95575665/168158125-0d826c1a-ffea-4ea9-a2bc-f3b0f4f0b99a.png\" alt=\"youtube-logo.png\" width=\"15\" height=\"10\"> [What is Programming?](https://www.youtube.com/watch?v=mRi_C2291Ls)\n",
        "\n",
        "##### 01.02.02 Summary\n",
        "\n",
        "A computer program is a recipe of instructions that tells your computer what to do. The recipe is written in a code called programming language. \n",
        "\n",
        "> ***Syntax***: Syntax in a programming language refers to the rules for how each instruction is written.\n",
        "\n",
        "> ***Semantics***: Semantics in a programming language refers to the effect the instructions have. \n",
        "\n",
        "> ***Script***: Script refers to a program with a short development cycle that can be created and deployed rapidly.\n",
        "\n",
        "#### 01.02.03 Video: What is Automation?\n",
        "\n",
        "<img src=\"https://user-images.githubusercontent.com/95575665/168158125-0d826c1a-ffea-4ea9-a2bc-f3b0f4f0b99a.png\" alt=\"youtube-logo.png\" width=\"15\" height=\"10\"> [What is Automation?](https://www.youtube.com/watch?v=KKNmIjJjXNs)\n",
        "\n",
        "##### 01.02.03 Summary \n",
        "\n",
        "> ***Automation***: Automation refers to the process of replacing a manual step with one that happens automatically.\n",
        "\n",
        "Benefits of automation: \n",
        "- little human intervention only when it needs maintenance  \n",
        "- consistency\n",
        "- error reduction\n",
        "- time-saving \n",
        "\n",
        "People can concentrate on more complex, creative, or difficult tasks.\n",
        "\n",
        "Tasks not suitable for automation: \n",
        "- those that require creativity or flexibility\n",
        "- those that are more complicated or less frequently executed\n",
        "\n",
        "The cost and effort of automation isn't worth the benefits.\n",
        "\n",
        "#### 01.02.04 Reading: Uses for Automation\n",
        "\n",
        "##### Uses for Automation\n",
        "\n",
        "Scripts can be used for automating specific tasks. Automation is used to replace a repetitive manual step with one that happens automatically. Humans are fallible. They can become tired, make mistakes, fail to follow instructions, be inconsistent in their job performance, and more. In contrast, automated processes complete instructions exactly as coded, in a consistent manner. They can run 24 hours a day, everyday, without tiring. For many tasks that are appropriate for automation, it can be more cost effective to use automation than human labor. \n",
        "\n",
        "Appropriate uses for automation include:\n",
        "\n",
        "- The automatic timing and regulation of traffic lights\n",
        "- A repetitive task that is at high risk for human error\n",
        "- Sending commands to a computer\n",
        "- Detecting and removing duplicates of data\n",
        "- Sending automated emails that are personalized by pulling individual names from a database and plugging them into the email \n",
        "- Updating a large number of file permissions\n",
        "- Reporting on system data, like disk or memory usage\n",
        "- Installing software\n",
        "- Generating reports\n",
        "- Deploying a file or a computer program to all computers on a company network\n",
        "- Using a configuration management system to deploy software patches, after a human has designed the system\n",
        "- Populating an e-commerce site with products\n",
        "- Setting the home directory and access permissions for users\n",
        "\n",
        "##### Automation Is Not Always an Appropriate or Complete Solution\n",
        "\n",
        "Automation cannot perform all human work. Tasks that call for human creativity, social connection, psychology, flexibility, ingenuity, evaluation, and/or complex analytic work are not good candidates for full automation. Sometimes automation can be used to perform one or more subtasks of a larger set of tasks – but – human intervention is required to complete the tasks. The following are some examples of tasks that cannot or should not be fully automated:\n",
        "\n",
        "- Items that require human evaluation and analytic skills:\n",
        "  - Designing a configuration management system\n",
        "  - Investigating and troubleshooting all end user problems\n",
        "  - Writing a computer program\n",
        "  - Building a new startup business\n",
        "- Items that require human creativity and/or an eye for aesthetic qualities:\n",
        "  - Designing an attractive webpage (AI can do this, but simple automation cannot) \n",
        "  - Wedding photography\n",
        "  - Haircuts and styling\n",
        "- Items that cannot be automated due to basic physics:\n",
        "  - Troubleshooting or repairing machines that cannot power on or boot up \n",
        "- Items that need human interaction, psychology, and/or evaluation skills:\n",
        "  - Interviewing and hiring new employees\n",
        "  - Customer service (chat bots cannot address every customer service need)\n",
        "- Items that should not be fully automated due to costs and safety:\n",
        "  - Grocery store checkout process, including bagging groceries\n",
        "  - Tasks that are less expensive to perform manually\n",
        "\n",
        "##### Artificial Intelligence\n",
        "\n",
        "It is important to understand that basic automation is not the same as artificial intelligence. Automation is used to explicitly instruct a machine on how to perform a task. Artificial intelligence (AI) involves training a computing machine to perform more complex tasks through a process called machine learning. This process prepares the AI software to perform new tasks without a human needing to program explicit instructions for each task. Although AI is often used for automating human tasks, AI automation is much more complex than basic automation.\n",
        "\n",
        "#### 01.02.05 Video: Getting Computers to Work for You\n",
        "\n",
        "<img src=\"https://user-images.githubusercontent.com/95575665/168158125-0d826c1a-ffea-4ea9-a2bc-f3b0f4f0b99a.png\" alt=\"youtube-logo.png\" width=\"15\" height=\"10\"> [Getting Computers to Work for You](https://www.youtube.com/watch?v=UppiGEK7XE0)\n",
        "\n",
        "#### 01.02.06 Reading: Study Guide: Introduction to Programming\n",
        "\n",
        "Your first practice quiz is coming up soon. This handy study guide should help you prepare for that quiz. The practice quizzes do not count towards your grade in this course. Practice quizzes are opportunities for you to check your understanding of the materials before you take the graded assessments at the end of each module.\n",
        "\n",
        "##### Key Terms\n",
        "\n",
        "> ***Programming code***: Programming code is a set of written computer instructions, guided by rules, using a computer programming language. It might help to think of the computer instructions as a detailed, step-by-step recipe for performing tasks. The instructions tell computers and machines how to perform an action. Programming code may also be referred to as source code or scripts.\n",
        "\n",
        "> ***Programming languages***: Programming languages are similar to human spoken languages in that they both use syntax and semantics. Programming languages are used to write computer programs.  Some common programming languages include Python, Java, C, C++, C#, and R.\n",
        "\n",
        "> ***Syntax***: Syntax is a set of rules for how statements are constructed in both human and computer languages. Programming syntax includes rules for the order of elements in programming instructions, as well as the use of special characters and their placements in statements. This concept is similar to the syntax rules for grammar and punctuation in human language.\n",
        "\n",
        "> ***Semantics*** Semantics refers to the intended meaning or effect of statements, or collections of words, in both human and computer languages. Semantic errors are also referred to as logical errors.\n",
        "\n",
        "> ***Computer program***: A computer program is a step-by-step list of instructions that a computer follows to reach an intended goal. It is important to be clear and precise about the actions a computer program is supposed to perform because computers will do exactly what they are instructed to do. Computer programs can be long, complex, and accomplish a variety of tasks. They are often developed by computer programmers and software engineers, but anyone can learn to create them. Computer programs may involve a structured development cycle. They can be written in a wide variety of programming languages, such as Python, Java, C++,  R, and more. The completed format of a program is often a single executable file.\n",
        "\n",
        "> ***Script***: Scripts are usually shorter and less complex than computer programs. Scripts are often used to automate specific tasks. However, they can be used for complex tasks if needed. Scripts are often written by IT professionals, but anyone can learn to write scripts. Scripts have a shorter, less structured development cycle as compared to the development of complex computer programs and software. Scripts can be written in a variety of programming languages, like Python, Javascript, Ruby, Bash, and more. Some scripting languages are interpreted languages and are only compatible with certain platforms.\n",
        "\n",
        "> ***Automation***: Automation is used to replace a repetitive manual step with one that happens automatically. \n",
        "\n",
        "> ***Output***: Output is the end result of a task performed by a function or computer program. Output can include a single value, a report, entries into a database, and more. \n",
        "\n",
        "> ***Input***: Input is information that is provided to a program by the end user. Input can be text, voice, images, biometrics, and more.\n",
        "\n",
        "> ***Functions***: A function is a reusable block of code that performs a specific task.\n",
        "\n",
        "> ***Variables***: Variables are used to temporarily store changeable values in programming code. \n",
        "\n",
        "#### 01.02.07 Practice Quiz: Introduction to Programming\n"
      ]
    },
    {
      "cell_type": "markdown",
      "metadata": {},
      "source": [
        "### 01.03 Introduction to Python"
      ]
    },
    {
      "cell_type": "markdown",
      "metadata": {},
      "source": [
        "#### 01.03.01 Video: What is Python?\n",
        "\n",
        "<img src=\"https://user-images.githubusercontent.com/95575665/168158125-0d826c1a-ffea-4ea9-a2bc-f3b0f4f0b99a.png\" alt=\"youtube-logo.png\" width=\"15\" height=\"10\"> [What is Python?](https://www.youtube.com/watch?v=8wMT1E1crCU)\n",
        "\n",
        "##### 01.03.01 Summary\n",
        "\n",
        "Reason for choosing Python is it is similar to using a human language with syntax that is easy to read and write.\n",
        "\n",
        "```python\n",
        "friends = ['Taylor', 'Alex', 'Pat', 'Eli']\n",
        "for friend in friends:\n",
        "\tprint(\"Hi \" + friend)\n",
        "```\n",
        "\n",
        "> ***Interpreter***: In programming, an interpreter is the program that reads and executes code. \n",
        "\n",
        "> ***Python Interpreter***: A Python interpreter is the program that reads Python code and translates it into instructions for your computer to follow.\n",
        "\n",
        "#### 01.03.02 Reading: Python Resources\n",
        "\n",
        "##### Using Python on Your Own\n",
        "\n",
        "The best way to learn any programming language is to practice it on your own as much as you can. If you have Python installed on your computer, you can execute the interpreter by running the python3 command (or just python on Windows), and you can close it by typing `exit()` or `Ctrl-D`.\n",
        "\n",
        "If you don’t already have Python installed on your machine, that’s alright. We’ll explain how to install it in an upcoming course.\n",
        "\n",
        "##### Python Practice Resources\n",
        "\n",
        "In the meantime, you can still practice by using one of the many online Python interpreters or codepads available online. There’s not much difference between an interpreter and a codepad. An interpreter is more interactive than a codepad, but they both let you execute code and see the results.\n",
        "\n",
        "Below, you’ll find links to some of the most popular online interpreters and codepads. Give them a go to find your favorite.\n",
        "\n",
        "- https://www.python.org/shell\n",
        "- https://www.onlinegdb.com/online_python_interpreter\n",
        "- https://repl.it/languages/python3\n",
        "- https://www.tutorialspoint.com/execute_python3_online.php\n",
        "- https://rextester.com/l/python3_online_compiler\n",
        "- https://trinket.io/python3\n",
        "\n",
        "##### Additional Python Resources\n",
        "\n",
        "While this course will give you information about how Python works and how to write scripts in Python, you’ll likely want to find out more about specific parts of the language. Here are some great ways to help you find additional info: \n",
        "\n",
        "- Read the [official Python documentation](https://docs.python.org/3/).\n",
        "- Search for answers or ask a question on [Stack Overflow](https://stackoverflow.com/). \n",
        "- Subscribe to the Python [tutor](https://mail.python.org/mailman/listinfo/tutor) mailing list, where you can ask questions and collaborate with other Python learners.\n",
        "\n",
        "##### Python History and Current Status\n",
        "\n",
        "Python was released almost 30 years ago and has a rich history. You can read more about it in the section on the \n",
        "[history of the software](https://docs.python.org/3.0/license.html) from the official Python documentation.\n",
        "\n",
        "Python is a rapidly evolving language, with new versions released regularly to introduce fresh features, enhance performance, address security vulnerabilities, and improve overall usability. While these updates drive innovation, they can sometimes require adjustments to existing code. Fortunately, Python offers tools to facilitate the migration process. For this course, we will be using Python 3.7. To stay up to date on the most current release of Python or find a specific release, you can visit \n",
        "[Python's website](https://www.python.org/downloads/).\n",
        "\n",
        "Additionally, if you would like to learn more about Python and its history you can visit the following websites:\n",
        "- [The Incredible Growth of Python](https://stackoverflow.blog/2017/09/06/incredible-growth-python/) (Stack Overflow)\n",
        "- [Why is Python Growing So Quickly - Future Trends](https://www.netguru.com/blog/future-of-python) (Netguru)\n",
        "- [Python Trends](https://technobrains.io/watch-out-for-python-trends-2023/) (TechnoBrains)\n",
        "- [Developer Survey Results 2018](https://survey.stackoverflow.co/2018#technology) (Stack Overflow)\n",
        "\n",
        "#### 01.03.03 Reading: A Note on Syntax and Code Blocks\n",
        "\n",
        "When writing code, using correct syntax is critical. Even a small typo, like a missing parenthesis bracket or an extra comma, can cause a syntax error and the code won't execute at all. If your code results in an error or an exception, pay close attention to syntax and watch out for minor mistakes. A single wrong character could take hours to identify in long code so it is important to be mindful of syntax when writing code. \n",
        "\n",
        "Common syntax errors: \n",
        "- Misspellings\n",
        "- Incorrect indentations\n",
        "- Missing or incorrect key characters:\n",
        "  - Bracket types - `(` curved `)`, `[` square `]`, `{` curly `}`\n",
        "  - Quote types - `\"`straight-double`\"` or `'`straight-single`'`, `“`curly-double`”` or `‘`curly-single`’`\n",
        "  - Block introduction characters, like colons - `:`\n",
        "- Data type mismatches\n",
        "- Missing, incorrectly used, or misplaced Python reserved words\n",
        "- Using the wrong case (uppercase/lowercase) - Python is a case-sensitive language \n",
        "\n",
        "If your syntax is correct, but the script has unexpected behavior or output, this may be due to a semantic problem. Syntax is like the vocabulary, grammar, spelling, and punctuation of code. Semantics are the meaning and logic of coded statements. It is possible to have syntactically correct code that runs successfully, but doesn't do what we want it to do.\n",
        "\n",
        "Common semantic errors:\n",
        "- Creating functional code, but getting unintentional output\n",
        "- Poor logic structures in the design of the code\n",
        "\n",
        "When working with the code blocks in exercises for this course, be mindful of syntax and semantic (logic) errors, along with the overall result of your code. Just because you fixed an error doesn't mean that the code will have the desired effect when it runs! Once you’ve fixed an error in your code, don't forget to click Run to check your work.\n",
        "\n",
        "#### 01.03.04 Video: Why is Python Relevant to IT?\n",
        "\n",
        "<img src=\"https://user-images.githubusercontent.com/95575665/168158125-0d826c1a-ffea-4ea9-a2bc-f3b0f4f0b99a.png\" alt=\"youtube-logo.png\" width=\"15\" height=\"10\"> [Why is Python Relevant to IT?](https://www.youtube.com/watch?v=Y17dtA_xuOQ)\n",
        "\n",
        "##### 01.03.04 Summary \n",
        "\n",
        "Reasons why Python is relevant to today's IT industry: \n",
        "- Python scripts are easy to write, understand, and maintain.\n",
        "- There are many system administration tools built with Python.\n",
        "- Python is available on a wide variety of platforms.\n",
        "\n",
        "#### 01.03.05 Video: Other Languages\n",
        "\n",
        "<img src=\"https://user-images.githubusercontent.com/95575665/168158125-0d826c1a-ffea-4ea9-a2bc-f3b0f4f0b99a.png\" alt=\"youtube-logo.png\" width=\"15\" height=\"10\"> [Other Languages](https://www.youtube.com/watch?v=sk2c1iS9NIg)\n",
        "\n",
        "##### 01.03.05 Summary \n",
        "\n",
        "- PowerShell: platform-specific scripting language used on Windows \n",
        "- Bash: platform-specific scripting language used on Linux\n",
        "- Perl and Ruby: general-purpose scripting languages widely used for automation \n",
        "- JavaScript: originally developed as a client-side scripting language for the web but increasingly used as server-side for a broader set of tasks\n",
        "\n",
        "Once you know the fundamentals of programming, it is easy to learn another programming language. There are a lot of similarities between programming languages than differences. \n",
        "\n",
        "#### 01.03.06 Reading: Study Guide: Introduction to Python\n",
        "\n",
        "This study guide provides a quick-reference summary of what you learned in this lesson and serves as a guide for the upcoming practice quiz.  \n",
        "\n",
        "In this segment, you learned that Python is a general purpose programming language that is commonly used for scripting and automation, as well as to develop a wide variety of applications. Python is compatible with most operating systems, including Windows, Linux, and Mac OS, and is updated every few years. Python can also run on a variety of machines, such as servers, workstations, PCs, mobile devices, IoT, and more.\n",
        "\n",
        "Python is widely used in the IT field, including IT support, system administration, web development, machine learning, data analytics, and more. Python can be used to calculate statistics, run your e-commerce site, process images, interact with web services, and do a whole host of other tasks. Python instructions resemble the English language, which is what makes it easier to learn and understand when compared to other programming languages.\n",
        "\n",
        "Python is:\n",
        "- a general purpose scripting language;\n",
        "- a popular language used to code a variety of applications;\n",
        "- a frequently used tool for automation;\n",
        "- a cross-platform compatible language;\n",
        "- a beginner-friendly language.\n",
        "\n",
        "Python is not: \n",
        "- a platform-specific / OS-specific scripting language;\n",
        "- a client-side scripting language;\n",
        "- a purely object-oriented programming language.\n",
        "\n",
        "##### Code Comparison with Python\n",
        "\n",
        "You will be learning about both Python and Bash scripting in this program. The following code illustrates a syntax difference between the two languages:\n",
        "\n",
        "| Print to screen in Python         | Print to screen in Bash       | \n",
        "| :-------------------------------- | :---------------------------- |\n",
        "| `>> print(\"Hello, how are you?\")` | `>> echo Hello, how are you?` | \n",
        "| `Hello, how are you?`             | `Hello, how are you?`         |\n",
        "\n",
        "##### Key Terms\n",
        "\n",
        "> ***Platform-specific / OS specific scripting language***: Platform-specific scripting languages, like PowerShell (for Windows) and Bash (for Linux), are used by system administrators on those platforms. \n",
        "\n",
        "> ***Client-side scripting language***: Client-side scripting languages, like JavaScript, are used mostly for web programming. The scripts are transferred from a web server to the end-user’s internet browser, then executed in the browser.\n",
        "\n",
        "> ***Machine language***: Machine language is the lowest-level computer language. It communicates directly with computing machines in binary code (ones and zeros). In binary code, one equals a pulse of electricity and zero equals no electrical pulse. Machine language instructions are made from translating languages like Python into complex patterns of ones and zeros. \n",
        "\n",
        "> ***Cross-platform language***: Programming language that is compatible with one or more platforms / operating systems (e.g., Windows, Linux, Mac, iOS, Android).\n",
        "\n",
        "> ***Object-oriented programming language***: In object-oriented programming languages, most coding elements are considered to be objects with configurable properties. For example, a form field is an object that can be configured to accept only dates as input in the mm/dd/yy format, and can be configured to read from and write to a specific database. \n",
        "\n",
        "> ***Python interpreter***: An interpreter is the program that reads and executes Python code by translating Python code into computer instructions.\n",
        "\n",
        "##### Resources\n",
        "\n",
        "For additional Python practice, the following links will take you to several popular online interpreters and codepads:\n",
        "- [Welcome to Python](https://www.python.org/shell/)\n",
        "- [Online Python Interpreter](https://www.onlinegdb.com/online_python_interpreter)\n",
        "- [Create a new Repl](https://replit.com/languages/python3)\n",
        "- [Online Python-3 Compiler (Interpreter)](https://www.tutorialspoint.com/online_python_compiler.php)\n",
        "- [Compile Python 3 Online](https://rextester.com/l/python3_online_compiler)\n",
        "- [Your Python Trinket](https://trinket.io/python3)\n",
        "\n",
        "#### 01.03.07 Practice Quiz: Introduction to Python"
      ]
    },
    {
      "cell_type": "markdown",
      "metadata": {},
      "source": [
        "### 01.04 Hello World"
      ]
    },
    {
      "cell_type": "markdown",
      "metadata": {},
      "source": [
        "#### 01.04.01 Reading: Review: Hello, World!\n",
        "\n",
        "##### Introduction\n",
        "\n",
        "This follow-along reading is organized to match the content in the video that follows. It contains the same code shown in the next video. You will find additional information throughout the guide to explain the purpose of each concept covered, why the code is written in a certain way, and tips for running the code. These code blocks will provide you with the opportunity to see how the code is written, allow you to practice running it, and can be used as a reference to refer back to. \n",
        "\n",
        "You can follow along in the reading as the instructor discusses the code or review the code after watching the video.\n",
        "\n",
        "```python\n",
        "print(\"Hello, World!\")\n",
        "```\n",
        "\n",
        "```c\n",
        "main() {\n",
        "        printf(\"hello, world\");\n",
        "}\n",
        "```\n",
        "\n",
        "#### 01.04.02 Video: Hello, World!\n",
        "\n",
        "<img src=\"https://user-images.githubusercontent.com/95575665/168158125-0d826c1a-ffea-4ea9-a2bc-f3b0f4f0b99a.png\" alt=\"youtube-logo.png\" width=\"15\" height=\"10\"> [Hello, World!](https://www.youtube.com/watch?v=avf4aIdOptg)\n",
        "\n",
        "#### 01.04.03 Reading: Review: Getting information from the User\n",
        "\n",
        "##### Introduction\n",
        "\n",
        "This follow-along reading is organized to match the content in the video that follows. It contains the same code shown in the next video. These code blocks will provide you with the opportunity to see how the code is written, allow you to practice running it, and can be used as a reference to refer back to. \n",
        "\n",
        "You can follow along in the reading as the instructor discusses the code or review the code after watching the video.\n",
        "\n",
        "```python\n",
        "name = \"Brook\"\n",
        "print(\"Hello \" + name)\n",
        "# Hello Brook\n",
        "```\n",
        "\n",
        "```python\n",
        "name = \"Alex\"\n",
        "print(\"Hello \" + name)\n",
        "# Hello Alex\n",
        "```\n",
        "\n",
        "#### 01.04.04 Video: Getting Information from the User\n",
        "\n",
        "<img src=\"https://user-images.githubusercontent.com/95575665/168158125-0d826c1a-ffea-4ea9-a2bc-f3b0f4f0b99a.png\" alt=\"youtube-logo.png\" width=\"15\" height=\"10\"> [Getting Information from the User](https://www.youtube.com/watch?v=ODKgGEgXsvI)\n",
        "\n",
        "#### 01.04.05 Reading: Review: Python Can Be Your Calculator\n",
        "\n",
        "#### 01.04.06 Video: Python Can Be Your Calculator\n",
        "\n",
        "<img src=\"https://user-images.githubusercontent.com/95575665/168158125-0d826c1a-ffea-4ea9-a2bc-f3b0f4f0b99a.png\" alt=\"youtube-logo.png\" width=\"15\" height=\"10\"> [Python Can Be Your Calculator](https://www.youtube.com/watch?v=IFlbVdDNX94)\n",
        "\n",
        "#### 01.04.07 Reading: Study Guide: First Programming Concepts\n",
        "\n",
        "#### 01.04.08 Practice Quiz: Hello World\n",
        "\n",
        "#### 01.04.09 Video: Code Editors and IDEs Overview\n",
        "\n",
        "<img src=\"https://user-images.githubusercontent.com/95575665/168158125-0d826c1a-ffea-4ea9-a2bc-f3b0f4f0b99a.png\" alt=\"youtube-logo.png\" width=\"15\" height=\"10\"> [Code Editors and IDEs Overview](https://www.youtube.com/watch?v=cCdrHGJN4_U)\n",
        "\n",
        "#### 01.04.10 Reading: Review: Use the Command-line\n",
        "\n",
        "#### 01.04.11 Video: Use the Command-line\n",
        "\n",
        "<img src=\"https://user-images.githubusercontent.com/95575665/168158125-0d826c1a-ffea-4ea9-a2bc-f3b0f4f0b99a.png\" alt=\"youtube-logo.png\" width=\"15\" height=\"10\"> [Use the Command-line](https://www.youtube.com/watch?v=eim4ssb_-rk)\n",
        "\n",
        "#### 01.04.12 Reading: Review: Use JupyterLab and Jupyter Notebooks\n",
        "\n",
        "#### 01.04.13 Video: Use JupyterLab and Jupyter Notebooks\n",
        "\n",
        "<img src=\"https://user-images.githubusercontent.com/95575665/168158125-0d826c1a-ffea-4ea9-a2bc-f3b0f4f0b99a.png\" alt=\"youtube-logo.png\" width=\"15\" height=\"10\"> [Use JupyterLab and Jupyter Notebooks](https://www.youtube.com/watch?v=WW8kx9Yp8vM)\n",
        "\n",
        "#### 01.04.14 Reading: Review: Use Colab\n",
        "\n",
        "#### 01.04.15 Video: Use Colab\n",
        "\n",
        "<img src=\"https://user-images.githubusercontent.com/95575665/168158125-0d826c1a-ffea-4ea9-a2bc-f3b0f4f0b99a.png\" alt=\"youtube-logo.png\" width=\"15\" height=\"10\"> [Use Colab](https://www.youtube.com/watch?v=mQSudEEH2hI)\n",
        "\n",
        "#### 01.04.16 Reading: Review: Use VS Code\n",
        "\n",
        "#### 01.04.17 Video: Use VS Code\n",
        "\n",
        "<img src=\"https://user-images.githubusercontent.com/95575665/168158125-0d826c1a-ffea-4ea9-a2bc-f3b0f4f0b99a.png\" alt=\"youtube-logo.png\" width=\"15\" height=\"10\"> [Use VS Code](https://www.youtube.com/watch?v=01SW8G8_c6o)\n",
        "\n",
        "#### 01.04.18 Reading: More on IDEs and Code Editors"
      ]
    },
    {
      "cell_type": "markdown",
      "metadata": {},
      "source": [
        "### 01.05 Module Review"
      ]
    },
    {
      "cell_type": "markdown",
      "metadata": {},
      "source": [
        "#### 01.05.01 Video: First Steps Wrap Up\n",
        "\n",
        "<img src=\"https://user-images.githubusercontent.com/95575665/168158125-0d826c1a-ffea-4ea9-a2bc-f3b0f4f0b99a.png\" alt=\"youtube-logo.png\" width=\"15\" height=\"10\"> [First Steps Wrap Up](https://www.youtube.com/watch?v=C9LjTMB4G7g)\n",
        "\n",
        "#### 01.05.02 Video: Meet Marga, the Curriculum Developer\n",
        "\n",
        "<img src=\"https://user-images.githubusercontent.com/95575665/168158125-0d826c1a-ffea-4ea9-a2bc-f3b0f4f0b99a.png\" alt=\"youtube-logo.png\" width=\"15\" height=\"10\"> [Meet Marga, the Curriculum Developer](https://www.youtube.com/watch?v=0BpJP2EB8eI)\n",
        "\n",
        "#### 01.05.03 Reading: Glossary Terms from Course 1, Module 1\n",
        "\n",
        "#### 01.05.04 Reading: Study Guide: Module 1 Graded Quiz\n",
        "\n",
        "#### 01.05.05 Quiz: Module 1 Graded Assessment"
      ]
    },
    {
      "cell_type": "markdown",
      "metadata": {},
      "source": [
        "&nbsp;\n",
        "\n",
        "---\n",
        "\n",
        "&nbsp;"
      ]
    },
    {
      "cell_type": "markdown",
      "metadata": {},
      "source": [
        "## Module 02 Basic Python Syntax"
      ]
    },
    {
      "cell_type": "markdown",
      "metadata": {},
      "source": [
        "### 02.01 Expressions and Variables"
      ]
    },
    {
      "cell_type": "markdown",
      "metadata": {},
      "source": [
        "#### 02.01.01 Video: Basic Python Syntax introduction\n",
        "\n",
        "#### 02.01.02 Reading: Explore Python syntax\n",
        "\n",
        "#### 02.01.03 Reading: Review: Data types\n",
        "\n",
        "#### 02.01.04 Video: Data Types\n",
        "\n",
        "#### 02.01.05 Reading: Annotating Variables by type\n",
        "\n",
        "#### 02.01.06 Reading: Review: Expressions, Numbers, and Type Conversions\n",
        "\n",
        "#### 02.01.07 Video: Expressions, Numbers, and Type Conversions\n",
        "\n",
        "#### 02.01.08 Reading: Implicit vs. Explicit Conversion\n",
        "\n",
        "#### 02.01.09 Reading: Study Guide: Expressions and Variables\n",
        "\n",
        "#### 02.01.10 Practice quiz: Expressions and Variables"
      ]
    },
    {
      "cell_type": "markdown",
      "metadata": {},
      "source": [
        "### 02.02 Functions"
      ]
    },
    {
      "cell_type": "markdown",
      "metadata": {},
      "source": [
        "#### 02.02.01 Reading: Review: Defining Functions\n",
        "\n",
        "#### 02.02.02 Video: Defining Functions\n",
        "\n",
        "#### 02.02.03 Reading: Built-in Functions\n",
        "\n",
        "#### 02.02.04 Reading: Review: Returning Values\n",
        "\n",
        "#### 02.02.05 Video: Returning Values\n",
        "\n",
        "#### 02.02.06 Reading: Review: The Principles of Code Reuse\n",
        "\n",
        "#### 02.02.07 Video: The Principles of Code Reuse\n",
        "\n",
        "#### 02.02.08 Reading: Review: Code Style\n",
        "\n",
        "#### 02.02.09 Video: Code Style\n",
        "\n",
        "#### 02.02.10 Reading: Study Guide: Functions\n",
        "\n",
        "#### 02.02.11 Practice Quiz: Functions"
      ]
    },
    {
      "cell_type": "markdown",
      "metadata": {},
      "source": [
        "### 02.03 Conditionals"
      ]
    },
    {
      "cell_type": "markdown",
      "metadata": {},
      "source": [
        "#### 02.03.01 Reading: Review: Comparing Things\n",
        "\n",
        "#### 02.03.02 Video: Comparing Things\n",
        "\n",
        "#### 02.03.03 Reading: Comparison Operators with Equations\n",
        "\n",
        "#### 02.03.04 Reading: Comparison Operators with Strings\n",
        "\n",
        "#### 02.03.05 Reading: Logical Operators\n",
        "\n",
        "#### 02.03.06 Review: Branching with If Statements\n",
        "\n",
        "#### 02.03.07 Video: Branching with If Statements\n",
        "\n",
        "#### 02.03.08 Reading: Review: Else Statements\n",
        "\n",
        "#### 02.03.09 Video: Else Statements\n",
        "\n",
        "#### 02.03.10 Reading: Else Statements and the Modulo Operator\n",
        "\n",
        "#### 02.03.11 Reading: Review: Elif Statements\n",
        "\n",
        "#### 02.03.12 Video: Elif Statements\n",
        "\n",
        "#### 02.03.13 Reading: Complex Branching with Elif Statements\n",
        "\n",
        "#### 02.03.14 Reading: Study Guide: Conditionals\n",
        "\n",
        "#### 02.03.15 Practice Quiz: Conditionals"
      ]
    },
    {
      "cell_type": "markdown",
      "metadata": {},
      "source": [
        "### 02.04 Module Review"
      ]
    },
    {
      "cell_type": "markdown",
      "metadata": {},
      "source": [
        "#### 02.04.01 Video: In Marga's Words: Why I Like Python\n",
        "\n",
        "#### 02.04.02 Reading: Glossary Terms from Course 1, Module 2\n",
        "\n",
        "#### 02.04.03 Reading: Study Guide: Module 2 Graded Quiz\n",
        "\n",
        "#### 02.04.04 Quiz: Module 2 Graded Assessment\n",
        "\n",
        "#### 02.04.05 Video: Basic Syntax Wrap Up"
      ]
    },
    {
      "cell_type": "markdown",
      "metadata": {},
      "source": [
        "&nbsp;\n",
        "\n",
        "---\n",
        "\n",
        "&nbsp;"
      ]
    },
    {
      "cell_type": "markdown",
      "metadata": {},
      "source": [
        "## Module 03 Loops"
      ]
    },
    {
      "cell_type": "markdown",
      "metadata": {},
      "source": [
        "### 03.01 While Loops"
      ]
    },
    {
      "cell_type": "markdown",
      "metadata": {},
      "source": [
        "#### 03.01.01 Video: Introduction to Loops\n",
        "\n",
        "#### 03.01.02 Reading: Review: What is a While Loop?\n",
        "\n",
        "#### 03.01.03 Video: What is a While Loop?\n",
        "\n",
        "#### 03.01.04 Reading: Anatomy of a While Loop\n",
        "\n",
        "#### 03.01.05 Reading: Review: More While Loop Examples\n",
        "\n",
        "#### 03.01.06 Video: More While Loop Examples\n",
        "\n",
        "#### 03.01.07 Reading: Review: Why Initializing Variables Matters\n",
        "\n",
        "#### 03.01.08 Video: Why Initializing Variables Matters\n",
        "\n",
        "#### 03.01.09 Reading: Review: Infinite Loops and How to Break Them\n",
        "\n",
        "#### 03.01.10 Video: Infinite Loops and How to Break Them\n",
        "\n",
        "#### 03.01.11 Reading: Study Guide: While Loops\n",
        "\n",
        "#### 03.01.12 Practice quiz: While Loops"
      ]
    },
    {
      "cell_type": "markdown",
      "metadata": {},
      "source": [
        "### 03.02 For Loops"
      ]
    },
    {
      "cell_type": "markdown",
      "metadata": {},
      "source": [
        "#### 03.02.01 Reading: Review: What is a For Loop?\n",
        "\n",
        "#### 03.02.02 Video: What is a For Loop?\n",
        "\n",
        "#### 03.02.03 Reading: Review: More For Loops Examples\n",
        "\n",
        "#### 03.02.04 Video: More for Loop Examples\n",
        "\n",
        "#### 03.02.05 Reading: A Closer Look at the Range() Function\n",
        "\n",
        "#### 03.02.06 Reading: Review: Nested For Loops\n",
        "\n",
        "#### 03.02.07 Video: Nested For Loops\n",
        "\n",
        "#### 03.02.08 Reading: Strings and For Loops\n",
        "\n",
        "#### 03.02.09 Reading: Looping Over a String\n",
        "\n",
        "#### 03.02.10 Reading: Slice and Join Strings\n",
        "\n",
        "#### 03.02.11 Reading: Review: Common Errors in For Loops\n",
        "\n",
        "```\n",
        "for x in 25:\n",
        "\tprint(x)\n",
        "\n",
        "# This will produce an error\n",
        "```\n",
        "\n",
        "#### 03.02.12 Video: Common Errors in For Loops \n",
        "\n",
        "#### 03.02.13 Reading: Study Guide: For Loops\n",
        "\n",
        "#### 03.02.14 Practice Quiz: For Loops"
      ]
    },
    {
      "cell_type": "markdown",
      "metadata": {},
      "source": [
        "### 03.03 Recursion (Optional)"
      ]
    },
    {
      "cell_type": "markdown",
      "metadata": {},
      "source": [
        "#### 03.03.01 Reading: Review: What is Recursion?\n",
        "\n",
        "#### 03.03.02 Video: What is Recursion? (Optional)\n",
        "\n",
        "#### 03.03.03 Reading: Review: Recursion in Action in the IT Context\n",
        "\n",
        "#### 03.03.04 Video: Recursion in Action in the IT Context\n",
        "\n",
        "#### 03.03.05 Reading: Additional Recursion Sources\n",
        "\n",
        "#### 03.03.06 Practice Quiz: Recursion"
      ]
    },
    {
      "cell_type": "markdown",
      "metadata": {},
      "source": [
        "### 03.04 Module Review"
      ]
    },
    {
      "cell_type": "markdown",
      "metadata": {},
      "source": [
        "#### 03.04.01 Video: Loops Wrap Up\n",
        "\n",
        "#### 03.04.02 Video: In Marga's Words: How I Got Into Programming\n",
        "\n",
        "#### 03.04.03 Reading: Glossary Terms from Course 1, Module 3\n",
        "\n",
        "#### 03.04.04 Reading: Study Guide: Module 3 Graded Quiz\n",
        "\n",
        "#### 03.04.05 Quiz: Module 3 Graded Assessment"
      ]
    },
    {
      "cell_type": "markdown",
      "metadata": {},
      "source": [
        "&nbsp;\n",
        "\n",
        "---\n",
        "\n",
        "&nbsp;"
      ]
    },
    {
      "cell_type": "markdown",
      "metadata": {},
      "source": [
        "## Module 04 Strings, Lists and Dictionaries"
      ]
    },
    {
      "cell_type": "markdown",
      "metadata": {},
      "source": [
        "### 04.01 Strings"
      ]
    },
    {
      "cell_type": "markdown",
      "metadata": {},
      "source": [
        "#### 04.01.01 Video: Basic Structures Introduction\n",
        "\n",
        "#### 04.01.02 Reading: Review: What is a String?\n",
        "\n",
        "#### 04.01.03 Video: What is a String?\n",
        "\n",
        "#### 04.01.04 Reading: Review: The Parts of a String\n",
        "\n",
        "#### 04.01.05 Video: The Parts of a String\n",
        "\n",
        "#### 04.01.06 Reading: String Indexing and Slicing\n",
        "\n",
        "#### 04.01.07 Reading: Review: Creating New Strings\n",
        "\n",
        "#### 04.01.08 Video: Creating New Strings\n",
        "\n",
        "#### 04.01.09 Reading: Basic String Methods\n",
        "\n",
        "#### 04.01.10 Reading: Review: More String Methods\n",
        "\n",
        "#### 04.01.11 Video: More String Methods\n",
        "\n",
        "#### 04.01.12 Reading: Advanced String Methods\n",
        "\n",
        "#### 04.01.13 Reading: Review: Formatting Strings\n",
        "\n",
        "#### 04.01.14 Video: Formatting Strings\n",
        "\n",
        "#### 04.01.15 Reading: String Formatting\n",
        "\n",
        "#### 04.01.16 Reading: String Reference Guide\n",
        "\n",
        "#### 04.01.17 Reading: Formatting Strings Reference Guide\n",
        "\n",
        "#### 04.01.18 Reading: Study Guide: Strings\n",
        "\n",
        "#### 04.01.19 Practice Quiz: Strings"
      ]
    },
    {
      "cell_type": "markdown",
      "metadata": {},
      "source": [
        "### 04.02 Lists"
      ]
    },
    {
      "cell_type": "markdown",
      "metadata": {},
      "source": [
        "#### 04.02.01 Reading: Review: What is a List?\n",
        "\n",
        "#### 04.02.02 Video: What is a List?\n",
        "\n",
        "#### 04.02.03 Reading: Lists Defined\n",
        "\n",
        "#### 04.02.04 Reading: Review: Modifying the Contents of a List\n",
        "\n",
        "#### 04.02.05 Video: Modifying the Contents of a List\n",
        "\n",
        "#### 04.02.06 Reading: Review: Lists and Tuples\n",
        "\n",
        "#### 04.02.07 Video: Lists and Tuples\n",
        "\n",
        "#### 04.02.08 Reading: Tuples\n",
        "\n",
        "#### 04.02.09 Reading: Review: Iterating Over Lists and Tuples\n",
        "\n",
        "#### 04.02.10 Video: Iterating Over Lists and Tuples\n",
        "\n",
        "#### 04.02.11 Reading: Iterating Over Lists Using Enumerate\n",
        "\n",
        "#### 04.02.12 Reading: Review: List Comprehensions\n",
        "\n",
        "#### 04.02.13 Video: List Comprehensions\n",
        "\n",
        "#### 04.02.14 Video: List Comprehension vs. For Loops\n",
        "\n",
        "#### 04.02.15 Reading: List Comprehension Examples\n",
        "\n",
        "#### 04.02.16 Reading: Study Guide: List Operations and Methods\n",
        "\n",
        "#### 04.02.17 Practice Quiz: Lists"
      ]
    },
    {
      "cell_type": "markdown",
      "metadata": {},
      "source": [
        "### 04.03 Dictionaries"
      ]
    },
    {
      "cell_type": "markdown",
      "metadata": {},
      "source": [
        "#### 04.03.01 Reading: Review: What is a Dictionary? \n",
        "\n",
        "#### 04.03.02 Video: What is a Dictionary?\n",
        "\n",
        "#### 04.03.03 Reading: Dictionaries Defined\n",
        "\n",
        "#### 04.03.04 Reading: Review: Iterating Over the Contents of a Dictionary\n",
        "\n",
        "#### 04.03.05 Video: Iterating Over the Contents of a Dictionary\n",
        "\n",
        "#### 04.03.06 Reading: Use While Loops and If-else Statements for Dictionaries\n",
        "\n",
        "#### 04.03.07 Video: Dictionaries vs. Lists\n",
        "\n",
        "#### 04.03.08 Reading: Study Guide: Dictionary Methods\n",
        "\n",
        "#### 04.03.09 Practice Quiz: Dictionaries"
      ]
    },
    {
      "cell_type": "markdown",
      "metadata": {},
      "source": [
        "### 04.04 Object-oriented Programming (Optional)"
      ]
    },
    {
      "cell_type": "markdown",
      "metadata": {},
      "source": [
        "#### 04.04.01 Video: OOP Introduction (Optional)\n",
        "\n",
        "#### 04.04.02 Reading: What Is a Method?\n",
        "\n",
        "#### 04.04.03 Reading: Constructors and Other Special Methods (Optional)\n",
        "\n",
        "#### 04.04.04 Reading: Special Methods\n",
        "\n",
        "#### 04.04.05 Video: Instance Methods (Optional)\n",
        "\n",
        "#### 04.04.06 Reading: Methods as Special Operators\n",
        "\n",
        "#### 04.04.07 Reading: Study Guide: Classes and Methods (Optional)"
      ]
    },
    {
      "cell_type": "markdown",
      "metadata": {},
      "source": [
        "### 04.05 Module Review"
      ]
    },
    {
      "cell_type": "markdown",
      "metadata": {},
      "source": [
        "#### 04.05.01 Video: Basic Structures Wrap Up\n",
        "\n",
        "#### 04.05.02 Video: In Marga's Words: My Most Challenging Script\n",
        "\n",
        "#### 04.05.03 Reading: Glossary Terms from Course 1, Module 4\n",
        "\n",
        "#### 04.05.04 Reading: Study Guide: Module 4 Graded Quiz\n",
        "\n",
        "#### 04.05.05 Quiz: Module 4 Graded Assessment"
      ]
    },
    {
      "cell_type": "markdown",
      "metadata": {},
      "source": [
        "&nbsp;\n",
        "\n",
        "---\n",
        "\n",
        "&nbsp;"
      ]
    },
    {
      "cell_type": "markdown",
      "metadata": {},
      "source": [
        "## Module 05 Final Project"
      ]
    },
    {
      "cell_type": "markdown",
      "metadata": {},
      "source": [
        "### 05.01 Writing a Script from the Ground Up"
      ]
    },
    {
      "cell_type": "markdown",
      "metadata": {},
      "source": [
        "#### 05.01.01 Video: Final Project Introduction\n",
        "\n",
        "#### 05.01.02 Video: Problem Statement\n",
        "\n",
        "#### 05.01.03 Reading: Review: Research\n",
        "\n",
        "#### 05.01.04 Video: Research\n",
        "\n",
        "#### 05.01.05 Reading: Review: Planning\n",
        "\n",
        "#### 05.01.06 Video: Planning\n",
        "\n",
        "#### 05.01.07 Reading: Review: Writing the Script\n",
        "\n",
        "#### 05.01.08 Video: Writing the Script\n",
        "\n",
        "#### 05.01.09 Reading: Review: Putting It All Together\n",
        "\n",
        "#### 05.01.10 Video: Putting It All Together\n",
        "\n",
        "#### 05.01.11 Lab: Putting It All Together\n",
        "\n",
        "#### 05.01.12 Reading: Python in Action\n",
        "\n",
        "#### 05.01.13 Quiz: Module 5 Graded Assessment"
      ]
    },
    {
      "cell_type": "markdown",
      "metadata": {},
      "source": [
        "### 05.02 Course Wrap-up"
      ]
    },
    {
      "cell_type": "markdown",
      "metadata": {},
      "source": [
        "#### 05.02.01 Video: Congratulations!\n",
        "\n",
        "#### 05.02.02 Reading: Course 1 Glossary\n",
        "\n",
        "#### 05.02.03 Video: Sneak Peek of the Next Course\n",
        "\n",
        "#### 05.02.04 Reading: Finding Your Path and Perfect Role\n",
        "\n",
        "#### 05.02.05 Reading: Exploring Technical Careers\n",
        "\n",
        "#### 05.02.06 Reading: Diversity and Inclusion\n",
        "\n",
        "#### 05.02.07 Reading: Creating a Career Development Plan\n",
        "\n",
        "#### 05.02.08 Reading: Transitioning to a New Career\n",
        "\n",
        "#### 05.02.09 Reading: Getting Promoted"
      ]
    }
  ],
  "metadata": {
    "colab": {
      "provenance": []
    },
    "kernelspec": {
      "display_name": "Python 3",
      "language": "python",
      "name": "python3"
    },
    "language_info": {
      "codemirror_mode": {
        "name": "ipython",
        "version": 3
      },
      "file_extension": ".py",
      "mimetype": "text/x-python",
      "name": "python",
      "nbconvert_exporter": "python",
      "pygments_lexer": "ipython3",
      "version": "3.9.13"
    },
    "orig_nbformat": 4
  },
  "nbformat": 4,
  "nbformat_minor": 0
}
